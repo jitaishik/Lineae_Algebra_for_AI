{
  "nbformat": 4,
  "nbformat_minor": 0,
  "metadata": {
    "colab": {
      "name": "18EC3AI21_MNIST.ipynb",
      "provenance": [],
      "collapsed_sections": []
    },
    "kernelspec": {
      "display_name": "Python 3",
      "language": "python",
      "name": "python3"
    },
    "language_info": {
      "codemirror_mode": {
        "name": "ipython",
        "version": 3
      },
      "file_extension": ".py",
      "mimetype": "text/x-python",
      "name": "python",
      "nbconvert_exporter": "python",
      "pygments_lexer": "ipython3",
      "version": "3.8.8"
    }
  },
  "cells": [
    {
      "cell_type": "markdown",
      "metadata": {
        "id": "pYhSD1MxEnIW"
      },
      "source": [
        "# <B> Linear Algebra for AI and ML </B>\n",
        "## Name : Aishik Mandal\n",
        "## Roll no: 18EC3AI21"
      ]
    },
    {
      "cell_type": "code",
      "metadata": {
        "id": "32Lot2yWEqrF"
      },
      "source": [
        "from keras.datasets import mnist"
      ],
      "execution_count": null,
      "outputs": []
    },
    {
      "cell_type": "code",
      "metadata": {
        "id": "lZg1eY75vrzP"
      },
      "source": [
        "(x_train, y_train) , (x_test, y_test) = mnist.load_data()"
      ],
      "execution_count": null,
      "outputs": []
    },
    {
      "cell_type": "code",
      "metadata": {
        "id": "oAkF6ElVv2C9"
      },
      "source": [
        "import numpy as np"
      ],
      "execution_count": null,
      "outputs": []
    },
    {
      "cell_type": "code",
      "metadata": {
        "colab": {
          "base_uri": "https://localhost:8080/"
        },
        "id": "J0KP9DOzv6g6",
        "outputId": "7f0e9879-78b5-40af-d0c8-c3ae5eca5a4f"
      },
      "source": [
        "print(\"Shape of training sample input \" , np.shape(x_train))\n",
        "print(\"Shape of training sample output \" , np.shape(y_train))\n",
        "print(\"Shape of test sample input \" , np.shape(x_test))\n",
        "print(\"Shape of test sample output \" , np.shape(y_test))"
      ],
      "execution_count": null,
      "outputs": [
        {
          "output_type": "stream",
          "name": "stdout",
          "text": [
            "Shape of training sample input  (60000, 28, 28)\n",
            "Shape of training sample output  (60000,)\n",
            "Shape of test sample input  (10000, 28, 28)\n",
            "Shape of test sample output  (10000,)\n"
          ]
        }
      ]
    },
    {
      "cell_type": "code",
      "metadata": {
        "id": "X9ilU2dItHMA"
      },
      "source": [
        "from matplotlib.pyplot import imshow, show"
      ],
      "execution_count": null,
      "outputs": []
    },
    {
      "cell_type": "code",
      "metadata": {
        "colab": {
          "base_uri": "https://localhost:8080/",
          "height": 283
        },
        "id": "gp7OvXfCwfaB",
        "outputId": "704c4360-a85c-4663-c7f5-889774b2507c"
      },
      "source": [
        "imshow(x_train[0], cmap = 'gray')"
      ],
      "execution_count": null,
      "outputs": [
        {
          "output_type": "execute_result",
          "data": {
            "text/plain": [
              "<matplotlib.image.AxesImage at 0x7f5140dc8910>"
            ]
          },
          "metadata": {},
          "execution_count": 6
        },
        {
          "output_type": "display_data",
          "data": {
            "image/png": "[encoded data removed]",
            "text/plain": [
              "<Figure size 432x288 with 1 Axes>"
            ]
          },
          "metadata": {
            "needs_background": "light"
          }
        }
      ]
    },
    {
      "cell_type": "code",
      "metadata": {
        "colab": {
          "base_uri": "https://localhost:8080/"
        },
        "id": "9Ghl0Jo-KB-k",
        "outputId": "e10997e4-cf4e-4108-bf77-1dea5f9747d7"
      },
      "source": [
        "y_train[0]"
      ],
      "execution_count": null,
      "outputs": [
        {
          "output_type": "execute_result",
          "data": {
            "text/plain": [
              "5"
            ]
          },
          "metadata": {},
          "execution_count": 7
        }
      ]
    },
    {
      "cell_type": "code",
      "metadata": {
        "id": "Cpm9ajw5xJnw"
      },
      "source": [
        "X = np.reshape(x_train, (60000,784))\n",
        "Y = y_train"
      ],
      "execution_count": null,
      "outputs": []
    },
    {
      "cell_type": "code",
      "metadata": {
        "colab": {
          "base_uri": "https://localhost:8080/"
        },
        "id": "6sMyRdxGx3DW",
        "outputId": "11530882-7e19-44ef-a1b9-520cfa8e8106"
      },
      "source": [
        "print(X[0])\n",
        "print(Y[0])"
      ],
      "execution_count": null,
      "outputs": [
        {
          "output_type": "stream",
          "name": "stdout",
          "text": [
            "[  0   0   0   0   0   0   0   0   0   0   0   0   0   0   0   0   0   0\n",
            "   0   0   0   0   0   0   0   0   0   0   0   0   0   0   0   0   0   0\n",
            "   0   0   0   0   0   0   0   0   0   0   0   0   0   0   0   0   0   0\n",
            "   0   0   0   0   0   0   0   0   0   0   0   0   0   0   0   0   0   0\n",
            "   0   0   0   0   0   0   0   0   0   0   0   0   0   0   0   0   0   0\n",
            "   0   0   0   0   0   0   0   0   0   0   0   0   0   0   0   0   0   0\n",
            "   0   0   0   0   0   0   0   0   0   0   0   0   0   0   0   0   0   0\n",
            "   0   0   0   0   0   0   0   0   0   0   0   0   0   0   0   0   0   0\n",
            "   0   0   0   0   0   0   0   0   3  18  18  18 126 136 175  26 166 255\n",
            " 247 127   0   0   0   0   0   0   0   0   0   0   0   0  30  36  94 154\n",
            " 170 253 253 253 253 253 225 172 253 242 195  64   0   0   0   0   0   0\n",
            "   0   0   0   0   0  49 238 253 253 253 253 253 253 253 253 251  93  82\n",
            "  82  56  39   0   0   0   0   0   0   0   0   0   0   0   0  18 219 253\n",
            " 253 253 253 253 198 182 247 241   0   0   0   0   0   0   0   0   0   0\n",
            "   0   0   0   0   0   0   0   0  80 156 107 253 253 205  11   0  43 154\n",
            "   0   0   0   0   0   0   0   0   0   0   0   0   0   0   0   0   0   0\n",
            "   0  14   1 154 253  90   0   0   0   0   0   0   0   0   0   0   0   0\n",
            "   0   0   0   0   0   0   0   0   0   0   0   0   0 139 253 190   2   0\n",
            "   0   0   0   0   0   0   0   0   0   0   0   0   0   0   0   0   0   0\n",
            "   0   0   0   0   0  11 190 253  70   0   0   0   0   0   0   0   0   0\n",
            "   0   0   0   0   0   0   0   0   0   0   0   0   0   0   0   0  35 241\n",
            " 225 160 108   1   0   0   0   0   0   0   0   0   0   0   0   0   0   0\n",
            "   0   0   0   0   0   0   0   0   0  81 240 253 253 119  25   0   0   0\n",
            "   0   0   0   0   0   0   0   0   0   0   0   0   0   0   0   0   0   0\n",
            "   0   0  45 186 253 253 150  27   0   0   0   0   0   0   0   0   0   0\n",
            "   0   0   0   0   0   0   0   0   0   0   0   0   0  16  93 252 253 187\n",
            "   0   0   0   0   0   0   0   0   0   0   0   0   0   0   0   0   0   0\n",
            "   0   0   0   0   0   0   0 249 253 249  64   0   0   0   0   0   0   0\n",
            "   0   0   0   0   0   0   0   0   0   0   0   0   0   0  46 130 183 253\n",
            " 253 207   2   0   0   0   0   0   0   0   0   0   0   0   0   0   0   0\n",
            "   0   0   0   0  39 148 229 253 253 253 250 182   0   0   0   0   0   0\n",
            "   0   0   0   0   0   0   0   0   0   0   0   0  24 114 221 253 253 253\n",
            " 253 201  78   0   0   0   0   0   0   0   0   0   0   0   0   0   0   0\n",
            "   0   0  23  66 213 253 253 253 253 198  81   2   0   0   0   0   0   0\n",
            "   0   0   0   0   0   0   0   0   0   0  18 171 219 253 253 253 253 195\n",
            "  80   9   0   0   0   0   0   0   0   0   0   0   0   0   0   0   0   0\n",
            "  55 172 226 253 253 253 253 244 133  11   0   0   0   0   0   0   0   0\n",
            "   0   0   0   0   0   0   0   0   0   0 136 253 253 253 212 135 132  16\n",
            "   0   0   0   0   0   0   0   0   0   0   0   0   0   0   0   0   0   0\n",
            "   0   0   0   0   0   0   0   0   0   0   0   0   0   0   0   0   0   0\n",
            "   0   0   0   0   0   0   0   0   0   0   0   0   0   0   0   0   0   0\n",
            "   0   0   0   0   0   0   0   0   0   0   0   0   0   0   0   0   0   0\n",
            "   0   0   0   0   0   0   0   0   0   0   0   0   0   0   0   0   0   0\n",
            "   0   0   0   0   0   0   0   0   0   0]\n",
            "5\n"
          ]
        }
      ]
    },
    {
      "cell_type": "markdown",
      "metadata": {
        "id": "hJ4U0_jjyP3R"
      },
      "source": [
        "In this case we have n = 784, and we are having the vectors X[0], X[1] , ... , X[60000] each a vector of length 784 "
      ]
    },
    {
      "cell_type": "markdown",
      "metadata": {
        "id": "6B7wdpzXyiHg"
      },
      "source": [
        "Now we have to choose 100 images of each digit from this data set."
      ]
    },
    {
      "cell_type": "code",
      "metadata": {
        "id": "YYcub0YLyqdT"
      },
      "source": [
        "# We can add the digits one by one, so first adding 100 '0' images then 100 '1' images and so on\n",
        "x_new = []\n",
        "y_new = []"
      ],
      "execution_count": null,
      "outputs": []
    },
    {
      "cell_type": "code",
      "metadata": {
        "colab": {
          "base_uri": "https://localhost:8080/"
        },
        "id": "Os2pyDMLzMSG",
        "outputId": "c88b3f5d-4ba1-4c0a-944d-57fc5f2d336a"
      },
      "source": [
        "for digit in range(10):\n",
        "  print(\"Doing it for the digit : \" ,digit)\n",
        "  num = 0\n",
        "  for i in range(len(Y)):\n",
        "    if Y[i] == digit:\n",
        "      x_new.append(X[i])\n",
        "      y_new.append(digit)\n",
        "      num += 1\n",
        "      if num >= 100:\n",
        "        break"
      ],
      "execution_count": null,
      "outputs": [
        {
          "output_type": "stream",
          "name": "stdout",
          "text": [
            "Doing it for the digit :  0\n",
            "Doing it for the digit :  1\n",
            "Doing it for the digit :  2\n",
            "Doing it for the digit :  3\n",
            "Doing it for the digit :  4\n",
            "Doing it for the digit :  5\n",
            "Doing it for the digit :  6\n",
            "Doing it for the digit :  7\n",
            "Doing it for the digit :  8\n",
            "Doing it for the digit :  9\n"
          ]
        }
      ]
    },
    {
      "cell_type": "code",
      "metadata": {
        "colab": {
          "base_uri": "https://localhost:8080/"
        },
        "id": "6-p5giUjzXDj",
        "outputId": "aa7036e4-4b6b-4cf4-868d-c399c3b648d1"
      },
      "source": [
        "print(\"Size of x_new is \", np.shape(x_new) , \" and size of y_new is \", np.shape(y_new) )"
      ],
      "execution_count": null,
      "outputs": [
        {
          "output_type": "stream",
          "name": "stdout",
          "text": [
            "Size of x_new is  (1000, 784)  and size of y_new is  (1000,)\n"
          ]
        }
      ]
    },
    {
      "cell_type": "code",
      "metadata": {
        "colab": {
          "base_uri": "https://localhost:8080/",
          "height": 283
        },
        "id": "XruyjS6YJkRj",
        "outputId": "efbaa4dd-ab58-4125-b750-3ccfa320cc4b"
      },
      "source": [
        "imshow(np.reshape(x_new[0],(28,28)), cmap = 'gray')"
      ],
      "execution_count": null,
      "outputs": [
        {
          "output_type": "execute_result",
          "data": {
            "text/plain": [
              "<matplotlib.image.AxesImage at 0x7f51408ce650>"
            ]
          },
          "metadata": {},
          "execution_count": 13
        },
        {
          "output_type": "display_data",
          "data": {
            "image/png": "[encoded data removed]",
            "text/plain": [
              "<Figure size 432x288 with 1 Axes>"
            ]
          },
          "metadata": {
            "needs_background": "light"
          }
        }
      ]
    },
    {
      "cell_type": "markdown",
      "metadata": {
        "id": "CGEk1eOn09mA"
      },
      "source": [
        "Here we have n = 784 and N = 1000, since we have 100 images of each digit. "
      ]
    },
    {
      "cell_type": "code",
      "metadata": {
        "id": "Qkccja2s0GYB"
      },
      "source": [
        "def euclidnorm(x,y):\n",
        "    z = x - y\n",
        "    dist = np.sqrt(np.sum(z**2))\n",
        "    return dist"
      ],
      "execution_count": null,
      "outputs": []
    },
    {
      "cell_type": "markdown",
      "metadata": {
        "id": "x1dTb9MU1M1g"
      },
      "source": [
        "case (i) random initialization of cluster representatives;"
      ]
    },
    {
      "cell_type": "code",
      "metadata": {
        "id": "nlg5g9b_0ahh"
      },
      "source": [
        "N = 1000\n",
        "k = 20\n",
        "siz_vec = 784"
      ],
      "execution_count": null,
      "outputs": []
    },
    {
      "cell_type": "code",
      "metadata": {
        "id": "uP-coCXc1Y1i"
      },
      "source": [
        "# Randomly initialising 20 clusters\n",
        "Z = np.random.randint(0,siz_vec,(k,siz_vec))"
      ],
      "execution_count": null,
      "outputs": []
    },
    {
      "cell_type": "code",
      "metadata": {
        "id": "yPG6nDSy1nIp"
      },
      "source": [
        "# Initial random cluster assignment\n",
        "cluster = np.random.randint(0,k, N)"
      ],
      "execution_count": null,
      "outputs": []
    },
    {
      "cell_type": "code",
      "metadata": {
        "colab": {
          "base_uri": "https://localhost:8080/"
        },
        "id": "jYPF92BF1op1",
        "outputId": "29da8a65-4be7-4c88-b2ac-007acf737ec3"
      },
      "source": [
        "cluster"
      ],
      "execution_count": null,
      "outputs": [
        {
          "output_type": "execute_result",
          "data": {
            "text/plain": [
              "array([13, 13,  6, 16, 18,  9,  7, 15, 18, 10, 11, 10,  1, 19,  2,  8, 11,\n",
              "       16,  7,  4, 15, 19,  6, 19, 11, 15,  9,  3,  1,  9, 14,  5, 12,  7,\n",
              "        4, 17, 16, 10, 17, 13,  1, 11,  1,  7,  3, 14,  0, 19, 19, 12,  0,\n",
              "        3, 17,  2, 15,  5,  9,  8, 13,  9,  4,  3,  0, 14,  2,  1, 18,  1,\n",
              "        8,  8,  8,  3, 11, 13, 18, 16, 17, 17,  0,  8,  7,  4,  3,  5, 17,\n",
              "       13,  3, 18, 18, 10,  3, 14, 11,  1, 19, 15,  4, 14, 18,  0,  8, 13,\n",
              "        2,  4,  1, 17,  0,  1, 11,  8,  5, 17,  9,  5, 19, 15,  0,  2,  4,\n",
              "       17,  7, 11,  0, 16, 18, 16,  7,  7, 17,  3,  7,  3, 12,  9, 13, 19,\n",
              "        1, 13,  9,  5,  6,  1, 19,  5,  9,  6,  4, 13, 16, 14,  9, 16,  6,\n",
              "       18, 13, 19, 11,  8,  5, 17,  0,  8, 17, 10,  0,  1,  6,  3,  2,  7,\n",
              "        1,  0, 15, 10, 19,  1, 18,  8,  3, 14, 16, 10,  7, 10, 12,  8, 12,\n",
              "        6,  3,  4,  1, 15, 14,  5,  8, 13, 17,  8, 13, 18,  9, 19,  8,  7,\n",
              "       10, 19,  1, 11,  2,  7, 16,  7,  6,  4,  6,  4, 11, 12, 15,  4, 17,\n",
              "       17, 17, 12,  2, 14,  7,  8,  0,  0, 10, 11,  9, 16, 19, 16,  8, 12,\n",
              "        0,  7, 10,  3,  7,  3, 16,  7, 12,  4,  2, 19, 16,  7,  0, 16, 15,\n",
              "       18,  3, 13,  8,  0,  4, 13,  4,  9, 15,  5,  2,  5, 14,  2,  5, 12,\n",
              "        4,  3,  2,  5,  6,  1,  5,  8, 12,  7,  4, 16,  8, 16,  2,  8,  9,\n",
              "        4, 14, 12, 11, 12,  0, 15, 19,  4, 19, 11, 16,  7, 18, 11,  6,  7,\n",
              "       16,  2, 11, 14, 15, 13,  7,  0, 12, 18, 13,  2, 15, 17, 17,  7, 13,\n",
              "        2,  9, 18,  8, 12, 17, 14,  4,  8,  3,  8,  1, 19,  8,  7, 17, 14,\n",
              "       19, 15,  7, 10, 19, 15,  3, 13,  7,  2, 16, 10, 12,  2, 14, 19, 13,\n",
              "        8,  5, 11,  9,  2, 16, 13, 19,  3,  6,  2, 10,  8,  4,  4, 17,  7,\n",
              "       19, 10, 12,  0, 17, 12,  1,  1, 13, 18,  1, 11,  1, 19, 17,  2,  8,\n",
              "       11, 10, 16,  4, 19, 17,  4, 18, 10,  2,  8, 14,  8, 12,  1, 15, 14,\n",
              "       13, 17, 12, 12, 15, 15, 18, 11, 14, 18, 13,  0, 18,  9, 14,  5,  2,\n",
              "        3, 14,  9, 17,  6, 11,  4, 14, 11,  0, 14, 16,  9,  7, 10,  7, 15,\n",
              "        7,  3, 10,  1, 17,  9, 16,  6,  7, 15, 16,  7, 19,  8,  1, 19,  8,\n",
              "        1, 14, 14,  6,  9,  0, 12, 13,  3,  8, 15, 10, 15, 12, 12, 16, 19,\n",
              "        8, 13, 11, 15,  2, 13,  8,  5, 11,  6, 13,  7,  7, 13,  1, 10,  3,\n",
              "       15, 19,  8, 11,  2, 15,  6,  5,  2, 11,  6,  0,  8,  6, 11,  1,  4,\n",
              "       19, 11, 19, 19, 10,  7,  8, 14, 17, 18, 12,  1, 13,  7, 11, 11,  7,\n",
              "       14, 15,  3, 10, 19, 13,  5, 12,  8, 14,  2,  4,  6, 11, 12,  4,  9,\n",
              "       12,  2,  8,  2, 19,  5,  2, 15, 14,  2,  0,  8,  0, 10,  8, 18,  0,\n",
              "        0, 15, 19, 13,  9,  2,  4, 11, 16, 14, 12, 17,  1, 10, 10, 16,  3,\n",
              "        4, 14, 12, 19,  3, 14,  9,  4,  1, 16, 17, 13,  9,  0, 11,  8, 19,\n",
              "       16,  4,  2,  3, 16,  0,  0,  3, 18,  5, 12, 11, 13, 13, 10,  3, 12,\n",
              "        9,  5, 13,  3,  9,  3,  7, 19,  7,  5, 14,  5,  9,  0, 15, 14,  5,\n",
              "       19,  3,  5, 11, 11, 11,  4, 19, 14,  6, 13, 10,  3,  5, 16, 18,  8,\n",
              "        6,  4, 12, 16, 17, 12, 19, 18, 13,  0,  8,  2,  3,  1, 15,  8,  2,\n",
              "       17, 12,  6,  8, 13, 10, 15, 14,  6,  0, 10,  3, 11, 16,  6, 10, 18,\n",
              "        6, 17, 11, 12,  6, 13, 19,  7,  4, 13, 13,  5, 11,  9, 10,  7,  4,\n",
              "       14, 13,  2, 15,  2,  0, 15, 15,  7, 10,  8, 12,  9, 10, 12, 16, 10,\n",
              "       13,  5, 15, 13, 15, 15, 19,  3,  6, 11,  6, 15, 14,  7,  8,  4,  5,\n",
              "        8, 11, 12, 14, 12, 19,  2,  0, 16,  2,  2, 12,  5, 15,  5,  9,  9,\n",
              "       19,  0, 13, 16, 18, 19, 16, 17, 16,  2, 11,  4, 13,  7, 17,  3, 18,\n",
              "        7,  9, 16,  0,  9,  3, 13, 12, 17, 14, 18,  2, 12, 17, 19,  7, 17,\n",
              "        7, 13, 14,  3,  8,  7, 15,  3,  7,  1, 12,  6, 14, 12, 19,  0, 19,\n",
              "        0,  9, 15, 11, 16, 18,  2, 16, 16,  6, 16, 19, 17,  2, 11,  0, 14,\n",
              "        2, 12, 16, 14,  9, 18,  4,  7,  5,  0, 19,  1, 10, 16,  0,  4, 17,\n",
              "        8, 16,  6,  5, 13,  4,  8, 18, 12, 14, 18, 14,  6, 13,  9, 19, 16,\n",
              "        3,  1,  3, 15, 18, 10, 18,  6, 18, 10,  3,  9,  3,  7,  3,  1, 15,\n",
              "        4, 12, 19,  7,  0,  5,  2, 19,  0,  7,  3, 17,  1, 19,  5,  1, 18,\n",
              "        7, 19, 13,  3, 11,  7, 11, 15, 11, 19,  2, 15, 10,  4, 17,  0,  0,\n",
              "        1,  7, 16,  1, 11, 15,  9,  6, 19, 12, 19,  6, 12, 10,  1, 13, 19,\n",
              "       18,  1,  2, 16,  3, 10, 11, 19,  7, 10, 11, 16, 15, 14, 10,  1, 16,\n",
              "       18,  7, 11,  6, 18, 12,  8, 19,  8,  6,  2,  2, 14, 16, 11,  8, 13,\n",
              "        3, 18, 18, 15, 17, 16, 19,  1, 19, 13, 19, 17,  4,  9, 16,  7, 14,\n",
              "       19,  8,  5, 19,  0, 11, 14, 18, 11,  4,  9,  5, 19, 12, 19, 13,  4,\n",
              "       17,  4, 10,  8, 19, 19, 13, 12, 19, 14, 15, 18,  9,  5])"
            ]
          },
          "metadata": {},
          "execution_count": 18
        }
      ]
    },
    {
      "cell_type": "code",
      "metadata": {
        "id": "hOdMAd-51p8f"
      },
      "source": [
        "def cal_Jclust(X, Z, c):\n",
        "    N = len(c)\n",
        "    jclust = 0\n",
        "    for i in range(N):\n",
        "        jclust += euclidnorm(X[i], Z[c[i]])\n",
        "    jclust = (jclust/N)\n",
        "    return jclust"
      ],
      "execution_count": null,
      "outputs": []
    },
    {
      "cell_type": "code",
      "metadata": {
        "id": "o521QeYO1uO4"
      },
      "source": [
        "def iteration():\n",
        "    print(\"cluster values are updated \")\n",
        "    for i in range(N):\n",
        "        min_val = 1e9\n",
        "        idx = -1\n",
        "        for j in range(k):\n",
        "            dist = euclidnorm(x_new[i], Z[j])\n",
        "            if dist < min_val :\n",
        "                idx = j\n",
        "                min_val = dist        \n",
        "        cluster[i] = idx\n",
        "    print(\"Z values are updated now\")\n",
        "    for j in range(k):\n",
        "        avg_val = np.zeros(siz_vec)\n",
        "        #print(\"The cluster \" + str(j) + \" has the following elements :\")\n",
        "        num = 0\n",
        "        for i in range(N):\n",
        "            if cluster[i] == j:\n",
        "                #print(i)\n",
        "                num += 1\n",
        "                avg_val += x_new[i]\n",
        "        if num == 0:\n",
        "            Z[j] = avg_val\n",
        "            continue\n",
        "        avg_val = avg_val/num\n",
        "        Z[j] = avg_val\n",
        "    cluster_Val = cal_Jclust(x_new,Z,cluster)\n",
        "    print(\"J_cluster Value is : \" + str(cluster_Val))"
      ],
      "execution_count": null,
      "outputs": []
    },
    {
      "cell_type": "markdown",
      "metadata": {
        "id": "9zmw21-b3aKD"
      },
      "source": [
        "(a) For k = 20, run the above algorithm to cluster the given images into 20\n",
        "clusters. Plot the cluster representatives after the algorithm converges.\n",
        "Count the number of iterations."
      ]
    },
    {
      "cell_type": "code",
      "metadata": {
        "colab": {
          "base_uri": "https://localhost:8080/"
        },
        "id": "2Lgz2L8h1wf2",
        "outputId": "ecc49f23-a0cf-4722-c674-01e4e56852ea"
      },
      "source": [
        "prev_Cluster = cal_Jclust(x_new,Z,cluster)\n",
        "it_no = 0\n",
        "while(True):\n",
        "  print(\"Iteration no: \",it_no)\n",
        "  it_no += 1\n",
        "  iteration()\n",
        "  this_Cluster = cal_Jclust(x_new,Z,cluster)\n",
        "  if abs(this_Cluster - prev_Cluster) < 0.01:\n",
        "    break\n",
        "  prev_Cluster = this_Cluster\n",
        "print(\"Total iterations : \", it_no)"
      ],
      "execution_count": null,
      "outputs": [
        {
          "output_type": "stream",
          "name": "stdout",
          "text": [
            "Iteration no:  0\n",
            "cluster values are updated \n",
            "Z values are updated now\n",
            "J_cluster Value is : 1782.2285625820948\n",
            "Iteration no:  1\n",
            "cluster values are updated \n",
            "Z values are updated now\n",
            "J_cluster Value is : 1718.3946450675721\n",
            "Iteration no:  2\n",
            "cluster values are updated \n",
            "Z values are updated now\n",
            "J_cluster Value is : 1692.7486614150182\n",
            "Iteration no:  3\n",
            "cluster values are updated \n",
            "Z values are updated now\n",
            "J_cluster Value is : 1677.906353089511\n",
            "Iteration no:  4\n",
            "cluster values are updated \n",
            "Z values are updated now\n",
            "J_cluster Value is : 1668.7617200862248\n",
            "Iteration no:  5\n",
            "cluster values are updated \n",
            "Z values are updated now\n",
            "J_cluster Value is : 1657.7128375552236\n",
            "Iteration no:  6\n",
            "cluster values are updated \n",
            "Z values are updated now\n",
            "J_cluster Value is : 1639.7732552524953\n",
            "Iteration no:  7\n",
            "cluster values are updated \n",
            "Z values are updated now\n",
            "J_cluster Value is : 1627.0409240146655\n",
            "Iteration no:  8\n",
            "cluster values are updated \n",
            "Z values are updated now\n",
            "J_cluster Value is : 1614.3549695463848\n",
            "Iteration no:  9\n",
            "cluster values are updated \n",
            "Z values are updated now\n",
            "J_cluster Value is : 1604.3891904487377\n",
            "Iteration no:  10\n",
            "cluster values are updated \n",
            "Z values are updated now\n",
            "J_cluster Value is : 1596.7728666404969\n",
            "Iteration no:  11\n",
            "cluster values are updated \n",
            "Z values are updated now\n",
            "J_cluster Value is : 1590.953997061688\n",
            "Iteration no:  12\n",
            "cluster values are updated \n",
            "Z values are updated now\n",
            "J_cluster Value is : 1584.7149845236233\n",
            "Iteration no:  13\n",
            "cluster values are updated \n",
            "Z values are updated now\n",
            "J_cluster Value is : 1579.8560443333274\n",
            "Iteration no:  14\n",
            "cluster values are updated \n",
            "Z values are updated now\n",
            "J_cluster Value is : 1573.5180134015131\n",
            "Iteration no:  15\n",
            "cluster values are updated \n",
            "Z values are updated now\n",
            "J_cluster Value is : 1568.4135800955826\n",
            "Iteration no:  16\n",
            "cluster values are updated \n",
            "Z values are updated now\n",
            "J_cluster Value is : 1564.876204665953\n",
            "Iteration no:  17\n",
            "cluster values are updated \n",
            "Z values are updated now\n",
            "J_cluster Value is : 1561.2709664938975\n",
            "Iteration no:  18\n",
            "cluster values are updated \n",
            "Z values are updated now\n",
            "J_cluster Value is : 1559.7431918508646\n",
            "Iteration no:  19\n",
            "cluster values are updated \n",
            "Z values are updated now\n",
            "J_cluster Value is : 1558.5167905436979\n",
            "Iteration no:  20\n",
            "cluster values are updated \n",
            "Z values are updated now\n",
            "J_cluster Value is : 1557.7637557200017\n",
            "Iteration no:  21\n",
            "cluster values are updated \n",
            "Z values are updated now\n",
            "J_cluster Value is : 1556.4789574236013\n",
            "Iteration no:  22\n",
            "cluster values are updated \n",
            "Z values are updated now\n",
            "J_cluster Value is : 1550.2954368681567\n",
            "Iteration no:  23\n",
            "cluster values are updated \n",
            "Z values are updated now\n",
            "J_cluster Value is : 1542.8318064200625\n",
            "Iteration no:  24\n",
            "cluster values are updated \n",
            "Z values are updated now\n",
            "J_cluster Value is : 1539.5613311585016\n",
            "Iteration no:  25\n",
            "cluster values are updated \n",
            "Z values are updated now\n",
            "J_cluster Value is : 1537.488079415483\n",
            "Iteration no:  26\n",
            "cluster values are updated \n",
            "Z values are updated now\n",
            "J_cluster Value is : 1536.6170941175894\n",
            "Iteration no:  27\n",
            "cluster values are updated \n",
            "Z values are updated now\n",
            "J_cluster Value is : 1535.7832116709285\n",
            "Iteration no:  28\n",
            "cluster values are updated \n",
            "Z values are updated now\n",
            "J_cluster Value is : 1535.1915884680948\n",
            "Iteration no:  29\n",
            "cluster values are updated \n",
            "Z values are updated now\n",
            "J_cluster Value is : 1534.9117515359233\n",
            "Iteration no:  30\n",
            "cluster values are updated \n",
            "Z values are updated now\n",
            "J_cluster Value is : 1534.8125465296164\n",
            "Iteration no:  31\n",
            "cluster values are updated \n",
            "Z values are updated now\n",
            "J_cluster Value is : 1534.1421958872115\n",
            "Iteration no:  32\n",
            "cluster values are updated \n",
            "Z values are updated now\n",
            "J_cluster Value is : 1533.4145356998974\n",
            "Iteration no:  33\n",
            "cluster values are updated \n",
            "Z values are updated now\n",
            "J_cluster Value is : 1532.3161615928016\n",
            "Iteration no:  34\n",
            "cluster values are updated \n",
            "Z values are updated now\n",
            "J_cluster Value is : 1532.0883370843726\n",
            "Iteration no:  35\n",
            "cluster values are updated \n",
            "Z values are updated now\n",
            "J_cluster Value is : 1531.970476041616\n",
            "Iteration no:  36\n",
            "cluster values are updated \n",
            "Z values are updated now\n",
            "J_cluster Value is : 1531.8786556507782\n",
            "Iteration no:  37\n",
            "cluster values are updated \n",
            "Z values are updated now\n",
            "J_cluster Value is : 1531.8218007639637\n",
            "Iteration no:  38\n",
            "cluster values are updated \n",
            "Z values are updated now\n",
            "J_cluster Value is : 1531.7802984085142\n",
            "Iteration no:  39\n",
            "cluster values are updated \n",
            "Z values are updated now\n",
            "J_cluster Value is : 1531.664515655293\n",
            "Iteration no:  40\n",
            "cluster values are updated \n",
            "Z values are updated now\n",
            "J_cluster Value is : 1531.0597664635825\n",
            "Iteration no:  41\n",
            "cluster values are updated \n",
            "Z values are updated now\n",
            "J_cluster Value is : 1530.5321042187659\n",
            "Iteration no:  42\n",
            "cluster values are updated \n",
            "Z values are updated now\n",
            "J_cluster Value is : 1528.1515595092046\n",
            "Iteration no:  43\n",
            "cluster values are updated \n",
            "Z values are updated now\n",
            "J_cluster Value is : 1527.8747183812009\n",
            "Iteration no:  44\n",
            "cluster values are updated \n",
            "Z values are updated now\n",
            "J_cluster Value is : 1527.3597134766915\n",
            "Iteration no:  45\n",
            "cluster values are updated \n",
            "Z values are updated now\n",
            "J_cluster Value is : 1526.9042377346495\n",
            "Iteration no:  46\n",
            "cluster values are updated \n",
            "Z values are updated now\n",
            "J_cluster Value is : 1526.5217395605937\n",
            "Iteration no:  47\n",
            "cluster values are updated \n",
            "Z values are updated now\n",
            "J_cluster Value is : 1525.8314765454516\n",
            "Iteration no:  48\n",
            "cluster values are updated \n",
            "Z values are updated now\n",
            "J_cluster Value is : 1525.5035355294233\n",
            "Iteration no:  49\n",
            "cluster values are updated \n",
            "Z values are updated now\n",
            "J_cluster Value is : 1525.2548450096185\n",
            "Iteration no:  50\n",
            "cluster values are updated \n",
            "Z values are updated now\n",
            "J_cluster Value is : 1525.2414228517569\n",
            "Iteration no:  51\n",
            "cluster values are updated \n",
            "Z values are updated now\n",
            "J_cluster Value is : 1525.2414228517569\n",
            "Total iterations :  52\n"
          ]
        }
      ]
    },
    {
      "cell_type": "code",
      "metadata": {
        "colab": {
          "base_uri": "https://localhost:8080/",
          "height": 1000
        },
        "id": "mMtnnnREORg4",
        "outputId": "b9b7ac78-a425-4fcb-ce55-b4d225b72750"
      },
      "source": [
        "for i in range(20):\n",
        "  print(\"For i = \",i)\n",
        "  imshow(np.reshape(Z[i],(28,28)), cmap = 'gray')\n",
        "  show()"
      ],
      "execution_count": null,
      "outputs": [
        {
          "output_type": "stream",
          "name": "stdout",
          "text": [
            "For i =  0\n"
          ]
        },
        {
          "output_type": "display_data",
          "data": {
            "image/png": "[encoded data removed]",
            "text/plain": [
              "<Figure size 432x288 with 1 Axes>"
            ]
          },
          "metadata": {
            "needs_background": "light"
          }
        },
        {
          "output_type": "stream",
          "name": "stdout",
          "text": [
            "For i =  1\n"
          ]
        },
        {
          "output_type": "display_data",
          "data": {
            "image/png": "[encoded data removed]",
            "text/plain": [
              "<Figure size 432x288 with 1 Axes>"
            ]
          },
          "metadata": {
            "needs_background": "light"
          }
        },
        {
          "output_type": "stream",
          "name": "stdout",
          "text": [
            "For i =  2\n"
          ]
        },
        {
          "output_type": "display_data",
          "data": {
            "image/png": "[encoded data removed]",
            "text/plain": [
              "<Figure size 432x288 with 1 Axes>"
            ]
          },
          "metadata": {
            "needs_background": "light"
          }
        },
        {
          "output_type": "stream",
          "name": "stdout",
          "text": [
            "For i =  3\n"
          ]
        },
        {
          "output_type": "display_data",
          "data": {
            "image/png": "[encoded data removed]",
            "text/plain": [
              "<Figure size 432x288 with 1 Axes>"
            ]
          },
          "metadata": {
            "needs_background": "light"
          }
        },
        {
          "output_type": "stream",
          "name": "stdout",
          "text": [
            "For i =  4\n"
          ]
        },
        {
          "output_type": "display_data",
          "data": {
            "image/png": "[encoded data removed]",
            "text/plain": [
              "<Figure size 432x288 with 1 Axes>"
            ]
          },
          "metadata": {
            "needs_background": "light"
          }
        },
        {
          "output_type": "stream",
          "name": "stdout",
          "text": [
            "For i =  5\n"
          ]
        },
        {
          "output_type": "display_data",
          "data": {
            "image/png": "[encoded data removed]",
            "text/plain": [
              "<Figure size 432x288 with 1 Axes>"
            ]
          },
          "metadata": {
            "needs_background": "light"
          }
        },
        {
          "output_type": "stream",
          "name": "stdout",
          "text": [
            "For i =  6\n"
          ]
        },
        {
          "output_type": "display_data",
          "data": {
            "image/png": "[encoded data removed]",
            "text/plain": [
              "<Figure size 432x288 with 1 Axes>"
            ]
          },
          "metadata": {
            "needs_background": "light"
          }
        },
        {
          "output_type": "stream",
          "name": "stdout",
          "text": [
            "For i =  7\n"
          ]
        },
        {
          "output_type": "display_data",
          "data": {
            "image/png": "[encoded data removed]",
            "text/plain": [
              "<Figure size 432x288 with 1 Axes>"
            ]
          },
          "metadata": {
            "needs_background": "light"
          }
        },
        {
          "output_type": "stream",
          "name": "stdout",
          "text": [
            "For i =  8\n"
          ]
        },
        {
          "output_type": "display_data",
          "data": {
            "image/png": "[encoded data removed]",
            "text/plain": [
              "<Figure size 432x288 with 1 Axes>"
            ]
          },
          "metadata": {
            "needs_background": "light"
          }
        },
        {
          "output_type": "stream",
          "name": "stdout",
          "text": [
            "For i =  9\n"
          ]
        },
        {
          "output_type": "display_data",
          "data": {
            "image/png": "[encoded data removed]",
            "text/plain": [
              "<Figure size 432x288 with 1 Axes>"
            ]
          },
          "metadata": {
            "needs_background": "light"
          }
        },
        {
          "output_type": "stream",
          "name": "stdout",
          "text": [
            "For i =  10\n"
          ]
        },
        {
          "output_type": "display_data",
          "data": {
            "image/png": "[encoded data removed]",
            "text/plain": [
              "<Figure size 432x288 with 1 Axes>"
            ]
          },
          "metadata": {
            "needs_background": "light"
          }
        },
        {
          "output_type": "stream",
          "name": "stdout",
          "text": [
            "For i =  11\n"
          ]
        },
        {
          "output_type": "display_data",
          "data": {
            "image/png": "[encoded data removed]",
            "text/plain": [
              "<Figure size 432x288 with 1 Axes>"
            ]
          },
          "metadata": {
            "needs_background": "light"
          }
        },
        {
          "output_type": "stream",
          "name": "stdout",
          "text": [
            "For i =  12\n"
          ]
        },
        {
          "output_type": "display_data",
          "data": {
            "image/png": "[encoded data removed]",
            "text/plain": [
              "<Figure size 432x288 with 1 Axes>"
            ]
          },
          "metadata": {
            "needs_background": "light"
          }
        },
        {
          "output_type": "stream",
          "name": "stdout",
          "text": [
            "For i =  13\n"
          ]
        },
        {
          "output_type": "display_data",
          "data": {
            "image/png": "[encoded data removed]",
            "text/plain": [
              "<Figure size 432x288 with 1 Axes>"
            ]
          },
          "metadata": {
            "needs_background": "light"
          }
        },
        {
          "output_type": "stream",
          "name": "stdout",
          "text": [
            "For i =  14\n"
          ]
        },
        {
          "output_type": "display_data",
          "data": {
            "image/png": "[encoded data removed]",
            "text/plain": [
              "<Figure size 432x288 with 1 Axes>"
            ]
          },
          "metadata": {
            "needs_background": "light"
          }
        },
        {
          "output_type": "stream",
          "name": "stdout",
          "text": [
            "For i =  15\n"
          ]
        },
        {
          "output_type": "display_data",
          "data": {
            "image/png": "[encoded data removed]",
            "text/plain": [
              "<Figure size 432x288 with 1 Axes>"
            ]
          },
          "metadata": {
            "needs_background": "light"
          }
        },
        {
          "output_type": "stream",
          "name": "stdout",
          "text": [
            "For i =  16\n"
          ]
        },
        {
          "output_type": "display_data",
          "data": {
            "image/png": "[encoded data removed]",
            "text/plain": [
              "<Figure size 432x288 with 1 Axes>"
            ]
          },
          "metadata": {
            "needs_background": "light"
          }
        },
        {
          "output_type": "stream",
          "name": "stdout",
          "text": [
            "For i =  17\n"
          ]
        },
        {
          "output_type": "display_data",
          "data": {
            "image/png": "[encoded data removed]",
            "text/plain": [
              "<Figure size 432x288 with 1 Axes>"
            ]
          },
          "metadata": {
            "needs_background": "light"
          }
        },
        {
          "output_type": "stream",
          "name": "stdout",
          "text": [
            "For i =  18\n"
          ]
        },
        {
          "output_type": "display_data",
          "data": {
            "image/png": "[encoded data removed]",
            "text/plain": [
              "<Figure size 432x288 with 1 Axes>"
            ]
          },
          "metadata": {
            "needs_background": "light"
          }
        },
        {
          "output_type": "stream",
          "name": "stdout",
          "text": [
            "For i =  19\n"
          ]
        },
        {
          "output_type": "display_data",
          "data": {
            "image/png": "[encoded data removed]",
            "text/plain": [
              "<Figure size 432x288 with 1 Axes>"
            ]
          },
          "metadata": {
            "needs_background": "light"
          }
        }
      ]
    },
    {
      "cell_type": "markdown",
      "metadata": {
        "id": "7DMhyYBN4OCH"
      },
      "source": [
        "(b) Choose 50 images (not chosen previously) from the MNIST data set randomly and assign the clusters to these test images. What is the accuracy\n",
        "of cluster assignment?"
      ]
    },
    {
      "cell_type": "code",
      "metadata": {
        "id": "-63FT25j3Alk"
      },
      "source": [
        "# we can select 50 images from the test set\n",
        "x_test = x_test[:50]"
      ],
      "execution_count": null,
      "outputs": []
    },
    {
      "cell_type": "code",
      "metadata": {
        "colab": {
          "base_uri": "https://localhost:8080/"
        },
        "id": "-4Ac0cZO4fbq",
        "outputId": "9524486c-7650-4ac9-d2e4-a45d1350099a"
      },
      "source": [
        "np.shape(x_test)"
      ],
      "execution_count": null,
      "outputs": [
        {
          "output_type": "execute_result",
          "data": {
            "text/plain": [
              "(50, 28, 28)"
            ]
          },
          "metadata": {},
          "execution_count": 24
        }
      ]
    },
    {
      "cell_type": "code",
      "metadata": {
        "id": "ovFzqF_n4hOb"
      },
      "source": [
        "x_test = x_test.reshape(50, 784)"
      ],
      "execution_count": null,
      "outputs": []
    },
    {
      "cell_type": "code",
      "metadata": {
        "id": "_I3FwKt04oP9"
      },
      "source": [
        "#now we can assign the clusters to these test images\n",
        "c_test = np.zeros(50)"
      ],
      "execution_count": null,
      "outputs": []
    },
    {
      "cell_type": "code",
      "metadata": {
        "id": "FSawAOHN48u1"
      },
      "source": [
        "for i in range(50):\n",
        "  min_Val = 1e9\n",
        "  idx = -1\n",
        "  for j in range(k):\n",
        "    dist = euclidnorm(x_test[i], Z[j])\n",
        "    if dist < min_Val :\n",
        "      idx = j\n",
        "      min_Val = dist\n",
        "  c_test[i] = idx"
      ],
      "execution_count": null,
      "outputs": []
    },
    {
      "cell_type": "code",
      "metadata": {
        "colab": {
          "base_uri": "https://localhost:8080/"
        },
        "id": "qD5ix77F49oT",
        "outputId": "0e14f4a5-4839-46b3-b7b6-1c2bca49fd02"
      },
      "source": [
        "for i in range(50):\n",
        "  print(\"It was put in the cluster : \",c_test[i],\" and the number was \",y_test[i])"
      ],
      "execution_count": null,
      "outputs": [
        {
          "output_type": "stream",
          "name": "stdout",
          "text": [
            "It was put in the cluster :  17.0  and the number was  7\n",
            "It was put in the cluster :  4.0  and the number was  2\n",
            "It was put in the cluster :  1.0  and the number was  1\n",
            "It was put in the cluster :  8.0  and the number was  0\n",
            "It was put in the cluster :  7.0  and the number was  4\n",
            "It was put in the cluster :  1.0  and the number was  1\n",
            "It was put in the cluster :  2.0  and the number was  4\n",
            "It was put in the cluster :  7.0  and the number was  9\n",
            "It was put in the cluster :  7.0  and the number was  5\n",
            "It was put in the cluster :  17.0  and the number was  9\n",
            "It was put in the cluster :  13.0  and the number was  0\n",
            "It was put in the cluster :  9.0  and the number was  6\n",
            "It was put in the cluster :  2.0  and the number was  9\n",
            "It was put in the cluster :  13.0  and the number was  0\n",
            "It was put in the cluster :  1.0  and the number was  1\n",
            "It was put in the cluster :  4.0  and the number was  5\n",
            "It was put in the cluster :  7.0  and the number was  9\n",
            "It was put in the cluster :  2.0  and the number was  7\n",
            "It was put in the cluster :  4.0  and the number was  3\n",
            "It was put in the cluster :  2.0  and the number was  4\n",
            "It was put in the cluster :  17.0  and the number was  9\n",
            "It was put in the cluster :  4.0  and the number was  6\n",
            "It was put in the cluster :  9.0  and the number was  6\n",
            "It was put in the cluster :  2.0  and the number was  5\n",
            "It was put in the cluster :  7.0  and the number was  4\n",
            "It was put in the cluster :  13.0  and the number was  0\n",
            "It was put in the cluster :  7.0  and the number was  7\n",
            "It was put in the cluster :  7.0  and the number was  4\n",
            "It was put in the cluster :  8.0  and the number was  0\n",
            "It was put in the cluster :  1.0  and the number was  1\n",
            "It was put in the cluster :  4.0  and the number was  3\n",
            "It was put in the cluster :  1.0  and the number was  1\n",
            "It was put in the cluster :  4.0  and the number was  3\n",
            "It was put in the cluster :  9.0  and the number was  4\n",
            "It was put in the cluster :  17.0  and the number was  7\n",
            "It was put in the cluster :  11.0  and the number was  2\n",
            "It was put in the cluster :  2.0  and the number was  7\n",
            "It was put in the cluster :  1.0  and the number was  1\n",
            "It was put in the cluster :  4.0  and the number was  2\n",
            "It was put in the cluster :  1.0  and the number was  1\n",
            "It was put in the cluster :  18.0  and the number was  1\n",
            "It was put in the cluster :  2.0  and the number was  7\n",
            "It was put in the cluster :  2.0  and the number was  4\n",
            "It was put in the cluster :  1.0  and the number was  2\n",
            "It was put in the cluster :  4.0  and the number was  3\n",
            "It was put in the cluster :  4.0  and the number was  5\n",
            "It was put in the cluster :  4.0  and the number was  1\n",
            "It was put in the cluster :  3.0  and the number was  2\n",
            "It was put in the cluster :  7.0  and the number was  4\n",
            "It was put in the cluster :  7.0  and the number was  4\n"
          ]
        }
      ]
    },
    {
      "cell_type": "code",
      "metadata": {
        "colab": {
          "base_uri": "https://localhost:8080/"
        },
        "id": "lKTgqpmgC6KE",
        "outputId": "5b46099e-1f9f-4de3-e79f-e2c2fb4c3746"
      },
      "source": [
        "num_cor = 0\n",
        "for i in range(50):\n",
        "  if y_test[i] == c_test[i]:\n",
        "    num_cor += 1\n",
        "accur = (num_cor/50)*100\n",
        "print(\"The Accuracy is :\",accur)"
      ],
      "execution_count": null,
      "outputs": [
        {
          "output_type": "stream",
          "name": "stdout",
          "text": [
            "The Accuracy is : 16.0\n"
          ]
        }
      ]
    },
    {
      "cell_type": "markdown",
      "metadata": {
        "id": "Q42blYyA6vYU"
      },
      "source": [
        "(c) For k = 5 to k = 20, tabulate the values of J clust and discuss what may\n",
        "be the optimal size of number of clusters."
      ]
    },
    {
      "cell_type": "code",
      "metadata": {
        "id": "iK7M9kpp7ZA6"
      },
      "source": [
        "def iteration1():\n",
        "\n",
        "    for i in range(N):\n",
        "        min_val = 1e9\n",
        "        idx = -1\n",
        "        for j in range(k):\n",
        "            dist = euclidnorm(x_new[i], Z[j])\n",
        "            if dist < min_val :\n",
        "                idx = j\n",
        "                min_val = dist        \n",
        "        cluster[i] = idx\n",
        "\n",
        "    for j in range(k):\n",
        "        avg_val = np.zeros(siz_vec)\n",
        "        num = 0\n",
        "        for i in range(N):\n",
        "            if cluster[i] == j:\n",
        "                num += 1\n",
        "                avg_val += x_new[i]\n",
        "        if num == 0:\n",
        "            Z[j] = avg_val\n",
        "            continue\n",
        "        avg_val = avg_val/num\n",
        "        Z[j] = avg_val"
      ],
      "execution_count": null,
      "outputs": []
    },
    {
      "cell_type": "code",
      "metadata": {
        "colab": {
          "base_uri": "https://localhost:8080/"
        },
        "id": "0Pm-0APb6kfi",
        "outputId": "68bcb38b-4e4b-43d0-89ab-dbaed1a96675"
      },
      "source": [
        "J_clust = []\n",
        "K_clust = []\n",
        "for k in range(5,21):\n",
        "\n",
        "  Z = np.random.randint(0,siz_vec,(k,siz_vec))\n",
        "  cluster = np.random.randint(0,k, N)\n",
        "  prev_Cluster = cal_Jclust(x_new,Z,cluster)\n",
        "  it_no = 0\n",
        "  while(True):\n",
        "    it_no += 1\n",
        "    iteration1()\n",
        "    this_Cluster = cal_Jclust(x_new,Z,cluster)\n",
        "    if abs(this_Cluster - prev_Cluster) < 0.01:\n",
        "      break\n",
        "    prev_Cluster = this_Cluster\n",
        "  K_clust.append(k)\n",
        "  print(\"For k = \", k)\n",
        "  J_clust.append(prev_Cluster)\n",
        "  print(\"Total iterations : \", it_no, \" and the final value of J clust = \", prev_Cluster)"
      ],
      "execution_count": null,
      "outputs": [
        {
          "output_type": "stream",
          "name": "stdout",
          "text": [
            "For k =  5\n",
            "Total iterations :  26  and the final value of J clust =  1645.882547710923\n",
            "For k =  6\n",
            "Total iterations :  35  and the final value of J clust =  1632.0352488770668\n",
            "For k =  7\n",
            "Total iterations :  46  and the final value of J clust =  1595.8776679075897\n",
            "For k =  8\n",
            "Total iterations :  38  and the final value of J clust =  1583.1958090668777\n",
            "For k =  9\n",
            "Total iterations :  52  and the final value of J clust =  1567.6643371606865\n",
            "For k =  10\n",
            "Total iterations :  65  and the final value of J clust =  1539.2627911711625\n",
            "For k =  11\n",
            "Total iterations :  39  and the final value of J clust =  1558.7156125395925\n",
            "For k =  12\n",
            "Total iterations :  41  and the final value of J clust =  1515.888863381298\n",
            "For k =  13\n",
            "Total iterations :  44  and the final value of J clust =  1523.0011314434053\n",
            "For k =  14\n",
            "Total iterations :  56  and the final value of J clust =  1504.784534497168\n",
            "For k =  15\n",
            "Total iterations :  41  and the final value of J clust =  1512.0643354387366\n",
            "For k =  16\n",
            "Total iterations :  44  and the final value of J clust =  1484.9257659922766\n",
            "For k =  17\n",
            "Total iterations :  44  and the final value of J clust =  1500.436228445404\n",
            "For k =  18\n",
            "Total iterations :  41  and the final value of J clust =  1485.4734754610176\n",
            "For k =  19\n",
            "Total iterations :  46  and the final value of J clust =  1515.5760204529254\n",
            "For k =  20\n",
            "Total iterations :  26  and the final value of J clust =  1527.0189414858153\n"
          ]
        }
      ]
    },
    {
      "cell_type": "code",
      "metadata": {
        "id": "HuNwtGfr5qKz"
      },
      "source": [
        "import matplotlib.pyplot as plt"
      ],
      "execution_count": null,
      "outputs": []
    },
    {
      "cell_type": "code",
      "metadata": {
        "colab": {
          "base_uri": "https://localhost:8080/",
          "height": 295
        },
        "id": "ZqPy0QEV5V2b",
        "outputId": "59351d6e-1228-4351-ccad-c1d216f7cacb"
      },
      "source": [
        "plt.plot(K_clust,J_clust)\n",
        "plt.title(\"J_Clust vs Number of Clusters\")\n",
        "plt.xlabel('Number of Clusters')\n",
        "plt.ylabel('J_Clust')\n",
        "plt.show()"
      ],
      "execution_count": null,
      "outputs": [
        {
          "output_type": "display_data",
          "data": {
            "image/png": "[encoded data removed]",
            "text/plain": [
              "<Figure size 432x288 with 1 Axes>"
            ]
          },
          "metadata": {
            "needs_background": "light"
          }
        }
      ]
    },
    {
      "cell_type": "markdown",
      "metadata": {
        "id": "yFJWbQL08Xnn"
      },
      "source": [
        "Mathematically, we can say that the value of J_clust is minimum for k = 18. But actually it does not make much sense because the elements were initialized randomly. Let's see what the clusters look like"
      ]
    },
    {
      "cell_type": "code",
      "metadata": {
        "colab": {
          "base_uri": "https://localhost:8080/",
          "height": 1000
        },
        "id": "75zCLPNSM53g",
        "outputId": "6285df57-4fe6-43c0-b0bb-79316b83708c"
      },
      "source": [
        "for i in range(20):\n",
        "  print(\"For i = \",i)\n",
        "  imshow(np.reshape(Z[i],(28,28)), cmap = 'gray')\n",
        "  show()"
      ],
      "execution_count": null,
      "outputs": [
        {
          "output_type": "stream",
          "name": "stdout",
          "text": [
            "For i =  0\n"
          ]
        },
        {
          "output_type": "display_data",
          "data": {
            "image/png": "[encoded data removed]",
            "text/plain": [
              "<Figure size 432x288 with 1 Axes>"
            ]
          },
          "metadata": {
            "needs_background": "light"
          }
        },
        {
          "output_type": "stream",
          "name": "stdout",
          "text": [
            "For i =  1\n"
          ]
        },
        {
          "output_type": "display_data",
          "data": {
            "image/png": "[encoded data removed]",
            "text/plain": [
              "<Figure size 432x288 with 1 Axes>"
            ]
          },
          "metadata": {
            "needs_background": "light"
          }
        },
        {
          "output_type": "stream",
          "name": "stdout",
          "text": [
            "For i =  2\n"
          ]
        },
        {
          "output_type": "display_data",
          "data": {
            "image/png": "[encoded data removed]",
            "text/plain": [
              "<Figure size 432x288 with 1 Axes>"
            ]
          },
          "metadata": {
            "needs_background": "light"
          }
        },
        {
          "output_type": "stream",
          "name": "stdout",
          "text": [
            "For i =  3\n"
          ]
        },
        {
          "output_type": "display_data",
          "data": {
            "image/png": "[encoded data removed]",
            "text/plain": [
              "<Figure size 432x288 with 1 Axes>"
            ]
          },
          "metadata": {
            "needs_background": "light"
          }
        },
        {
          "output_type": "stream",
          "name": "stdout",
          "text": [
            "For i =  4\n"
          ]
        },
        {
          "output_type": "display_data",
          "data": {
            "image/png": "[encoded data removed]",
            "text/plain": [
              "<Figure size 432x288 with 1 Axes>"
            ]
          },
          "metadata": {
            "needs_background": "light"
          }
        },
        {
          "output_type": "stream",
          "name": "stdout",
          "text": [
            "For i =  5\n"
          ]
        },
        {
          "output_type": "display_data",
          "data": {
            "image/png": "[encoded data removed]",
            "text/plain": [
              "<Figure size 432x288 with 1 Axes>"
            ]
          },
          "metadata": {
            "needs_background": "light"
          }
        },
        {
          "output_type": "stream",
          "name": "stdout",
          "text": [
            "For i =  6\n"
          ]
        },
        {
          "output_type": "display_data",
          "data": {
            "image/png": "[encoded data removed]",
            "text/plain": [
              "<Figure size 432x288 with 1 Axes>"
            ]
          },
          "metadata": {
            "needs_background": "light"
          }
        },
        {
          "output_type": "stream",
          "name": "stdout",
          "text": [
            "For i =  7\n"
          ]
        },
        {
          "output_type": "display_data",
          "data": {
            "image/png": "[encoded data removed]",
            "text/plain": [
              "<Figure size 432x288 with 1 Axes>"
            ]
          },
          "metadata": {
            "needs_background": "light"
          }
        },
        {
          "output_type": "stream",
          "name": "stdout",
          "text": [
            "For i =  8\n"
          ]
        },
        {
          "output_type": "display_data",
          "data": {
            "image/png": "[encoded data removed]",
            "text/plain": [
              "<Figure size 432x288 with 1 Axes>"
            ]
          },
          "metadata": {
            "needs_background": "light"
          }
        },
        {
          "output_type": "stream",
          "name": "stdout",
          "text": [
            "For i =  9\n"
          ]
        },
        {
          "output_type": "display_data",
          "data": {
            "image/png": "[encoded data removed]",
            "text/plain": [
              "<Figure size 432x288 with 1 Axes>"
            ]
          },
          "metadata": {
            "needs_background": "light"
          }
        },
        {
          "output_type": "stream",
          "name": "stdout",
          "text": [
            "For i =  10\n"
          ]
        },
        {
          "output_type": "display_data",
          "data": {
            "image/png": "[encoded data removed]",
            "text/plain": [
              "<Figure size 432x288 with 1 Axes>"
            ]
          },
          "metadata": {
            "needs_background": "light"
          }
        },
        {
          "output_type": "stream",
          "name": "stdout",
          "text": [
            "For i =  11\n"
          ]
        },
        {
          "output_type": "display_data",
          "data": {
            "image/png": "[encoded data removed]",
            "text/plain": [
              "<Figure size 432x288 with 1 Axes>"
            ]
          },
          "metadata": {
            "needs_background": "light"
          }
        },
        {
          "output_type": "stream",
          "name": "stdout",
          "text": [
            "For i =  12\n"
          ]
        },
        {
          "output_type": "display_data",
          "data": {
            "image/png": "[encoded data removed]",
            "text/plain": [
              "<Figure size 432x288 with 1 Axes>"
            ]
          },
          "metadata": {
            "needs_background": "light"
          }
        },
        {
          "output_type": "stream",
          "name": "stdout",
          "text": [
            "For i =  13\n"
          ]
        },
        {
          "output_type": "display_data",
          "data": {
            "image/png": "[encoded data removed]",
            "text/plain": [
              "<Figure size 432x288 with 1 Axes>"
            ]
          },
          "metadata": {
            "needs_background": "light"
          }
        },
        {
          "output_type": "stream",
          "name": "stdout",
          "text": [
            "For i =  14\n"
          ]
        },
        {
          "output_type": "display_data",
          "data": {
            "image/png": "[encoded data removed]",
            "text/plain": [
              "<Figure size 432x288 with 1 Axes>"
            ]
          },
          "metadata": {
            "needs_background": "light"
          }
        },
        {
          "output_type": "stream",
          "name": "stdout",
          "text": [
            "For i =  15\n"
          ]
        },
        {
          "output_type": "display_data",
          "data": {
            "image/png": "[encoded data removed]",
            "text/plain": [
              "<Figure size 432x288 with 1 Axes>"
            ]
          },
          "metadata": {
            "needs_background": "light"
          }
        },
        {
          "output_type": "stream",
          "name": "stdout",
          "text": [
            "For i =  16\n"
          ]
        },
        {
          "output_type": "display_data",
          "data": {
            "image/png": "[encoded data removed]",
            "text/plain": [
              "<Figure size 432x288 with 1 Axes>"
            ]
          },
          "metadata": {
            "needs_background": "light"
          }
        },
        {
          "output_type": "stream",
          "name": "stdout",
          "text": [
            "For i =  17\n"
          ]
        },
        {
          "output_type": "display_data",
          "data": {
            "image/png": "[encoded data removed]",
            "text/plain": [
              "<Figure size 432x288 with 1 Axes>"
            ]
          },
          "metadata": {
            "needs_background": "light"
          }
        },
        {
          "output_type": "stream",
          "name": "stdout",
          "text": [
            "For i =  18\n"
          ]
        },
        {
          "output_type": "display_data",
          "data": {
            "image/png": "[encoded data removed]",
            "text/plain": [
              "<Figure size 432x288 with 1 Axes>"
            ]
          },
          "metadata": {
            "needs_background": "light"
          }
        },
        {
          "output_type": "stream",
          "name": "stdout",
          "text": [
            "For i =  19\n"
          ]
        },
        {
          "output_type": "display_data",
          "data": {
            "image/png": "[encoded data removed]",
            "text/plain": [
              "<Figure size 432x288 with 1 Axes>"
            ]
          },
          "metadata": {
            "needs_background": "light"
          }
        }
      ]
    },
    {
      "cell_type": "markdown",
      "metadata": {
        "id": "qBWWRPuq8q1j"
      },
      "source": [
        "case(ii) choose cluster representatives from the given data set."
      ]
    },
    {
      "cell_type": "markdown",
      "metadata": {
        "id": "pMhuWysZ9M8T"
      },
      "source": [
        "(a) For k = 20, run the above algorithm to cluster the given images into 20\n",
        "clusters. Plot the cluster representatives after the algorithm converges.\n",
        "Count the number of iterations."
      ]
    },
    {
      "cell_type": "code",
      "metadata": {
        "id": "0UiYMZf264Gr"
      },
      "source": [
        "k = 20\n",
        "cluster = np.random.randint(0,k, N)"
      ],
      "execution_count": null,
      "outputs": []
    },
    {
      "cell_type": "code",
      "metadata": {
        "colab": {
          "base_uri": "https://localhost:8080/"
        },
        "id": "bGWEDfFrHQC5",
        "outputId": "765714fa-336a-4de5-dadb-0db5de94046f"
      },
      "source": [
        "Z = []\n",
        "dicty ={}\n",
        "for i in range(10):\n",
        "  print(\"Cluster \",i,\" has the value \",y_new[100*i])\n",
        "  dicty[i] = y_new[100*i]\n",
        "  Z.append(x_new[100*i])\n",
        "for i in range(10,20):\n",
        "  print(\"Cluster \",i,\" has the value \",y_new[100*(i-10)+ 2])\n",
        "  dicty[i] = y_new[100*(i-10)+ 2]\n",
        "  Z.append(x_new[100*(i-10)+ 2])"
      ],
      "execution_count": null,
      "outputs": [
        {
          "output_type": "stream",
          "name": "stdout",
          "text": [
            "Cluster  0  has the value  0\n",
            "Cluster  1  has the value  1\n",
            "Cluster  2  has the value  2\n",
            "Cluster  3  has the value  3\n",
            "Cluster  4  has the value  4\n",
            "Cluster  5  has the value  5\n",
            "Cluster  6  has the value  6\n",
            "Cluster  7  has the value  7\n",
            "Cluster  8  has the value  8\n",
            "Cluster  9  has the value  9\n",
            "Cluster  10  has the value  0\n",
            "Cluster  11  has the value  1\n",
            "Cluster  12  has the value  2\n",
            "Cluster  13  has the value  3\n",
            "Cluster  14  has the value  4\n",
            "Cluster  15  has the value  5\n",
            "Cluster  16  has the value  6\n",
            "Cluster  17  has the value  7\n",
            "Cluster  18  has the value  8\n",
            "Cluster  19  has the value  9\n"
          ]
        }
      ]
    },
    {
      "cell_type": "code",
      "metadata": {
        "colab": {
          "base_uri": "https://localhost:8080/",
          "height": 1000
        },
        "id": "Ju1QqUiG9kDB",
        "outputId": "96b1b158-b9cf-4e7a-e6e3-6b1529e5ecba"
      },
      "source": [
        "for i in range(20):\n",
        "  print(\"For i = \",i)\n",
        "  imshow(np.reshape(Z[i],(28,28)), cmap = 'gray')\n",
        "  show()"
      ],
      "execution_count": null,
      "outputs": [
        {
          "output_type": "stream",
          "name": "stdout",
          "text": [
            "For i =  0\n"
          ]
        },
        {
          "output_type": "display_data",
          "data": {
            "image/png": "[encoded data removed]",
            "text/plain": [
              "<Figure size 432x288 with 1 Axes>"
            ]
          },
          "metadata": {
            "needs_background": "light"
          }
        },
        {
          "output_type": "stream",
          "name": "stdout",
          "text": [
            "For i =  1\n"
          ]
        },
        {
          "output_type": "display_data",
          "data": {
            "image/png": "[encoded data removed]",
            "text/plain": [
              "<Figure size 432x288 with 1 Axes>"
            ]
          },
          "metadata": {
            "needs_background": "light"
          }
        },
        {
          "output_type": "stream",
          "name": "stdout",
          "text": [
            "For i =  2\n"
          ]
        },
        {
          "output_type": "display_data",
          "data": {
            "image/png": "[encoded data removed]",
            "text/plain": [
              "<Figure size 432x288 with 1 Axes>"
            ]
          },
          "metadata": {
            "needs_background": "light"
          }
        },
        {
          "output_type": "stream",
          "name": "stdout",
          "text": [
            "For i =  3\n"
          ]
        },
        {
          "output_type": "display_data",
          "data": {
            "image/png": "[encoded data removed]",
            "text/plain": [
              "<Figure size 432x288 with 1 Axes>"
            ]
          },
          "metadata": {
            "needs_background": "light"
          }
        },
        {
          "output_type": "stream",
          "name": "stdout",
          "text": [
            "For i =  4\n"
          ]
        },
        {
          "output_type": "display_data",
          "data": {
            "image/png": "[encoded data removed]",
            "text/plain": [
              "<Figure size 432x288 with 1 Axes>"
            ]
          },
          "metadata": {
            "needs_background": "light"
          }
        },
        {
          "output_type": "stream",
          "name": "stdout",
          "text": [
            "For i =  5\n"
          ]
        },
        {
          "output_type": "display_data",
          "data": {
            "image/png": "[encoded data removed]",
            "text/plain": [
              "<Figure size 432x288 with 1 Axes>"
            ]
          },
          "metadata": {
            "needs_background": "light"
          }
        },
        {
          "output_type": "stream",
          "name": "stdout",
          "text": [
            "For i =  6\n"
          ]
        },
        {
          "output_type": "display_data",
          "data": {
            "image/png": "[encoded data removed]",
            "text/plain": [
              "<Figure size 432x288 with 1 Axes>"
            ]
          },
          "metadata": {
            "needs_background": "light"
          }
        },
        {
          "output_type": "stream",
          "name": "stdout",
          "text": [
            "For i =  7\n"
          ]
        },
        {
          "output_type": "display_data",
          "data": {
            "image/png": "[encoded data removed]",
            "text/plain": [
              "<Figure size 432x288 with 1 Axes>"
            ]
          },
          "metadata": {
            "needs_background": "light"
          }
        },
        {
          "output_type": "stream",
          "name": "stdout",
          "text": [
            "For i =  8\n"
          ]
        },
        {
          "output_type": "display_data",
          "data": {
            "image/png": "[encoded data removed]",
            "text/plain": [
              "<Figure size 432x288 with 1 Axes>"
            ]
          },
          "metadata": {
            "needs_background": "light"
          }
        },
        {
          "output_type": "stream",
          "name": "stdout",
          "text": [
            "For i =  9\n"
          ]
        },
        {
          "output_type": "display_data",
          "data": {
            "image/png": "[encoded data removed]",
            "text/plain": [
              "<Figure size 432x288 with 1 Axes>"
            ]
          },
          "metadata": {
            "needs_background": "light"
          }
        },
        {
          "output_type": "stream",
          "name": "stdout",
          "text": [
            "For i =  10\n"
          ]
        },
        {
          "output_type": "display_data",
          "data": {
            "image/png": "[encoded data removed]",
            "text/plain": [
              "<Figure size 432x288 with 1 Axes>"
            ]
          },
          "metadata": {
            "needs_background": "light"
          }
        },
        {
          "output_type": "stream",
          "name": "stdout",
          "text": [
            "For i =  11\n"
          ]
        },
        {
          "output_type": "display_data",
          "data": {
            "image/png": "[encoded data removed]",
            "text/plain": [
              "<Figure size 432x288 with 1 Axes>"
            ]
          },
          "metadata": {
            "needs_background": "light"
          }
        },
        {
          "output_type": "stream",
          "name": "stdout",
          "text": [
            "For i =  12\n"
          ]
        },
        {
          "output_type": "display_data",
          "data": {
            "image/png": "[encoded data removed]",
            "text/plain": [
              "<Figure size 432x288 with 1 Axes>"
            ]
          },
          "metadata": {
            "needs_background": "light"
          }
        },
        {
          "output_type": "stream",
          "name": "stdout",
          "text": [
            "For i =  13\n"
          ]
        },
        {
          "output_type": "display_data",
          "data": {
            "image/png": "[encoded data removed]",
            "text/plain": [
              "<Figure size 432x288 with 1 Axes>"
            ]
          },
          "metadata": {
            "needs_background": "light"
          }
        },
        {
          "output_type": "stream",
          "name": "stdout",
          "text": [
            "For i =  14\n"
          ]
        },
        {
          "output_type": "display_data",
          "data": {
            "image/png": "[encoded data removed]",
            "text/plain": [
              "<Figure size 432x288 with 1 Axes>"
            ]
          },
          "metadata": {
            "needs_background": "light"
          }
        },
        {
          "output_type": "stream",
          "name": "stdout",
          "text": [
            "For i =  15\n"
          ]
        },
        {
          "output_type": "display_data",
          "data": {
            "image/png": "[encoded data removed]",
            "text/plain": [
              "<Figure size 432x288 with 1 Axes>"
            ]
          },
          "metadata": {
            "needs_background": "light"
          }
        },
        {
          "output_type": "stream",
          "name": "stdout",
          "text": [
            "For i =  16\n"
          ]
        },
        {
          "output_type": "display_data",
          "data": {
            "image/png": "[encoded data removed]",
            "text/plain": [
              "<Figure size 432x288 with 1 Axes>"
            ]
          },
          "metadata": {
            "needs_background": "light"
          }
        },
        {
          "output_type": "stream",
          "name": "stdout",
          "text": [
            "For i =  17\n"
          ]
        },
        {
          "output_type": "display_data",
          "data": {
            "image/png": "[encoded data removed]",
            "text/plain": [
              "<Figure size 432x288 with 1 Axes>"
            ]
          },
          "metadata": {
            "needs_background": "light"
          }
        },
        {
          "output_type": "stream",
          "name": "stdout",
          "text": [
            "For i =  18\n"
          ]
        },
        {
          "output_type": "display_data",
          "data": {
            "image/png": "[encoded data removed]",
            "text/plain": [
              "<Figure size 432x288 with 1 Axes>"
            ]
          },
          "metadata": {
            "needs_background": "light"
          }
        },
        {
          "output_type": "stream",
          "name": "stdout",
          "text": [
            "For i =  19\n"
          ]
        },
        {
          "output_type": "display_data",
          "data": {
            "image/png": "[encoded data removed]",
            "text/plain": [
              "<Figure size 432x288 with 1 Axes>"
            ]
          },
          "metadata": {
            "needs_background": "light"
          }
        }
      ]
    },
    {
      "cell_type": "code",
      "metadata": {
        "colab": {
          "base_uri": "https://localhost:8080/"
        },
        "id": "1URVnp4d-H_Q",
        "outputId": "8e627200-8921-4a43-d97a-b4ebf6c1635d"
      },
      "source": [
        "prev_Cluster = cal_Jclust(x_new,Z,cluster)\n",
        "print(\"Initial J Clust = \", prev_Cluster)\n",
        "it_no = 0\n",
        "while(True):\n",
        "  print(\"Iteration no: \",it_no)\n",
        "  it_no += 1\n",
        "  iteration()\n",
        "  this_Cluster = cal_Jclust(x_new,Z,cluster)\n",
        "  if abs(this_Cluster - prev_Cluster) < 0.000001:\n",
        "    break\n",
        "  prev_Cluster = this_Cluster\n",
        "print(\"Total iterations : \", it_no)"
      ],
      "execution_count": null,
      "outputs": [
        {
          "output_type": "stream",
          "name": "stdout",
          "text": [
            "Initial J Clust =  133.97005000075174\n",
            "Iteration no:  0\n",
            "cluster values are updated \n",
            "Z values are updated now\n",
            "J_cluster Value is : 1763.7066254501908\n",
            "Iteration no:  1\n",
            "cluster values are updated \n",
            "Z values are updated now\n",
            "J_cluster Value is : 1563.9153630016895\n",
            "Iteration no:  2\n",
            "cluster values are updated \n",
            "Z values are updated now\n",
            "J_cluster Value is : 1506.0452746029096\n",
            "Iteration no:  3\n",
            "cluster values are updated \n",
            "Z values are updated now\n",
            "J_cluster Value is : 1471.9836007966287\n",
            "Iteration no:  4\n",
            "cluster values are updated \n",
            "Z values are updated now\n",
            "J_cluster Value is : 1458.493041512846\n",
            "Iteration no:  5\n",
            "cluster values are updated \n",
            "Z values are updated now\n",
            "J_cluster Value is : 1452.7113572983938\n",
            "Iteration no:  6\n",
            "cluster values are updated \n",
            "Z values are updated now\n",
            "J_cluster Value is : 1447.308716892262\n",
            "Iteration no:  7\n",
            "cluster values are updated \n",
            "Z values are updated now\n",
            "J_cluster Value is : 1444.9858987717141\n",
            "Iteration no:  8\n",
            "cluster values are updated \n",
            "Z values are updated now\n",
            "J_cluster Value is : 1443.492827847197\n",
            "Iteration no:  9\n",
            "cluster values are updated \n",
            "Z values are updated now\n",
            "J_cluster Value is : 1442.376307815954\n",
            "Iteration no:  10\n",
            "cluster values are updated \n",
            "Z values are updated now\n",
            "J_cluster Value is : 1441.6277889494809\n",
            "Iteration no:  11\n",
            "cluster values are updated \n",
            "Z values are updated now\n",
            "J_cluster Value is : 1441.1462405197312\n",
            "Iteration no:  12\n",
            "cluster values are updated \n",
            "Z values are updated now\n",
            "J_cluster Value is : 1440.611738465173\n",
            "Iteration no:  13\n",
            "cluster values are updated \n",
            "Z values are updated now\n",
            "J_cluster Value is : 1439.2626003203934\n",
            "Iteration no:  14\n",
            "cluster values are updated \n",
            "Z values are updated now\n",
            "J_cluster Value is : 1437.5508742222512\n",
            "Iteration no:  15\n",
            "cluster values are updated \n",
            "Z values are updated now\n",
            "J_cluster Value is : 1436.3829223111343\n",
            "Iteration no:  16\n",
            "cluster values are updated \n",
            "Z values are updated now\n",
            "J_cluster Value is : 1435.0863991175954\n",
            "Iteration no:  17\n",
            "cluster values are updated \n",
            "Z values are updated now\n",
            "J_cluster Value is : 1434.170768536825\n",
            "Iteration no:  18\n",
            "cluster values are updated \n",
            "Z values are updated now\n",
            "J_cluster Value is : 1433.436007793161\n",
            "Iteration no:  19\n",
            "cluster values are updated \n",
            "Z values are updated now\n",
            "J_cluster Value is : 1432.7923015438255\n",
            "Iteration no:  20\n",
            "cluster values are updated \n",
            "Z values are updated now\n",
            "J_cluster Value is : 1432.5321690034953\n",
            "Iteration no:  21\n",
            "cluster values are updated \n",
            "Z values are updated now\n",
            "J_cluster Value is : 1432.2261581992702\n",
            "Iteration no:  22\n",
            "cluster values are updated \n",
            "Z values are updated now\n",
            "J_cluster Value is : 1432.1405300705717\n",
            "Iteration no:  23\n",
            "cluster values are updated \n",
            "Z values are updated now\n",
            "J_cluster Value is : 1432.0901570934736\n",
            "Iteration no:  24\n",
            "cluster values are updated \n",
            "Z values are updated now\n",
            "J_cluster Value is : 1432.0901570934736\n",
            "Total iterations :  25\n"
          ]
        }
      ]
    },
    {
      "cell_type": "code",
      "metadata": {
        "colab": {
          "base_uri": "https://localhost:8080/",
          "height": 1000
        },
        "id": "y-z0I6RWAFwM",
        "outputId": "bb998f0d-80f2-4f82-a247-ab897e41340e"
      },
      "source": [
        "for i in range(20):\n",
        "  print(\"For i = \",i)\n",
        "  imshow(np.reshape(Z[i],(28,28)), cmap = 'gray')\n",
        "  show()"
      ],
      "execution_count": null,
      "outputs": [
        {
          "output_type": "stream",
          "name": "stdout",
          "text": [
            "For i =  0\n"
          ]
        },
        {
          "output_type": "display_data",
          "data": {
            "image/png": "[encoded data removed]",
            "text/plain": [
              "<Figure size 432x288 with 1 Axes>"
            ]
          },
          "metadata": {
            "needs_background": "light"
          }
        },
        {
          "output_type": "stream",
          "name": "stdout",
          "text": [
            "For i =  1\n"
          ]
        },
        {
          "output_type": "display_data",
          "data": {
            "image/png": "[encoded data removed]",
            "text/plain": [
              "<Figure size 432x288 with 1 Axes>"
            ]
          },
          "metadata": {
            "needs_background": "light"
          }
        },
        {
          "output_type": "stream",
          "name": "stdout",
          "text": [
            "For i =  2\n"
          ]
        },
        {
          "output_type": "display_data",
          "data": {
            "image/png": "[encoded data removed]",
            "text/plain": [
              "<Figure size 432x288 with 1 Axes>"
            ]
          },
          "metadata": {
            "needs_background": "light"
          }
        },
        {
          "output_type": "stream",
          "name": "stdout",
          "text": [
            "For i =  3\n"
          ]
        },
        {
          "output_type": "display_data",
          "data": {
            "image/png": "[encoded data removed]",
            "text/plain": [
              "<Figure size 432x288 with 1 Axes>"
            ]
          },
          "metadata": {
            "needs_background": "light"
          }
        },
        {
          "output_type": "stream",
          "name": "stdout",
          "text": [
            "For i =  4\n"
          ]
        },
        {
          "output_type": "display_data",
          "data": {
            "image/png": "[encoded data removed]",
            "text/plain": [
              "<Figure size 432x288 with 1 Axes>"
            ]
          },
          "metadata": {
            "needs_background": "light"
          }
        },
        {
          "output_type": "stream",
          "name": "stdout",
          "text": [
            "For i =  5\n"
          ]
        },
        {
          "output_type": "display_data",
          "data": {
            "image/png": "[encoded data removed]",
            "text/plain": [
              "<Figure size 432x288 with 1 Axes>"
            ]
          },
          "metadata": {
            "needs_background": "light"
          }
        },
        {
          "output_type": "stream",
          "name": "stdout",
          "text": [
            "For i =  6\n"
          ]
        },
        {
          "output_type": "display_data",
          "data": {
            "image/png": "[encoded data removed]",
            "text/plain": [
              "<Figure size 432x288 with 1 Axes>"
            ]
          },
          "metadata": {
            "needs_background": "light"
          }
        },
        {
          "output_type": "stream",
          "name": "stdout",
          "text": [
            "For i =  7\n"
          ]
        },
        {
          "output_type": "display_data",
          "data": {
            "image/png": "[encoded data removed]",
            "text/plain": [
              "<Figure size 432x288 with 1 Axes>"
            ]
          },
          "metadata": {
            "needs_background": "light"
          }
        },
        {
          "output_type": "stream",
          "name": "stdout",
          "text": [
            "For i =  8\n"
          ]
        },
        {
          "output_type": "display_data",
          "data": {
            "image/png": "[encoded data removed]",
            "text/plain": [
              "<Figure size 432x288 with 1 Axes>"
            ]
          },
          "metadata": {
            "needs_background": "light"
          }
        },
        {
          "output_type": "stream",
          "name": "stdout",
          "text": [
            "For i =  9\n"
          ]
        },
        {
          "output_type": "display_data",
          "data": {
            "image/png": "[encoded data removed]",
            "text/plain": [
              "<Figure size 432x288 with 1 Axes>"
            ]
          },
          "metadata": {
            "needs_background": "light"
          }
        },
        {
          "output_type": "stream",
          "name": "stdout",
          "text": [
            "For i =  10\n"
          ]
        },
        {
          "output_type": "display_data",
          "data": {
            "image/png": "[encoded data removed]",
            "text/plain": [
              "<Figure size 432x288 with 1 Axes>"
            ]
          },
          "metadata": {
            "needs_background": "light"
          }
        },
        {
          "output_type": "stream",
          "name": "stdout",
          "text": [
            "For i =  11\n"
          ]
        },
        {
          "output_type": "display_data",
          "data": {
            "image/png": "[encoded data removed]",
            "text/plain": [
              "<Figure size 432x288 with 1 Axes>"
            ]
          },
          "metadata": {
            "needs_background": "light"
          }
        },
        {
          "output_type": "stream",
          "name": "stdout",
          "text": [
            "For i =  12\n"
          ]
        },
        {
          "output_type": "display_data",
          "data": {
            "image/png": "[encoded data removed]",
            "text/plain": [
              "<Figure size 432x288 with 1 Axes>"
            ]
          },
          "metadata": {
            "needs_background": "light"
          }
        },
        {
          "output_type": "stream",
          "name": "stdout",
          "text": [
            "For i =  13\n"
          ]
        },
        {
          "output_type": "display_data",
          "data": {
            "image/png": "[encoded data removed]",
            "text/plain": [
              "<Figure size 432x288 with 1 Axes>"
            ]
          },
          "metadata": {
            "needs_background": "light"
          }
        },
        {
          "output_type": "stream",
          "name": "stdout",
          "text": [
            "For i =  14\n"
          ]
        },
        {
          "output_type": "display_data",
          "data": {
            "image/png": "[encoded data removed]",
            "text/plain": [
              "<Figure size 432x288 with 1 Axes>"
            ]
          },
          "metadata": {
            "needs_background": "light"
          }
        },
        {
          "output_type": "stream",
          "name": "stdout",
          "text": [
            "For i =  15\n"
          ]
        },
        {
          "output_type": "display_data",
          "data": {
            "image/png": "[encoded data removed]",
            "text/plain": [
              "<Figure size 432x288 with 1 Axes>"
            ]
          },
          "metadata": {
            "needs_background": "light"
          }
        },
        {
          "output_type": "stream",
          "name": "stdout",
          "text": [
            "For i =  16\n"
          ]
        },
        {
          "output_type": "display_data",
          "data": {
            "image/png": "[encoded data removed]",
            "text/plain": [
              "<Figure size 432x288 with 1 Axes>"
            ]
          },
          "metadata": {
            "needs_background": "light"
          }
        },
        {
          "output_type": "stream",
          "name": "stdout",
          "text": [
            "For i =  17\n"
          ]
        },
        {
          "output_type": "display_data",
          "data": {
            "image/png": "[encoded data removed]",
            "text/plain": [
              "<Figure size 432x288 with 1 Axes>"
            ]
          },
          "metadata": {
            "needs_background": "light"
          }
        },
        {
          "output_type": "stream",
          "name": "stdout",
          "text": [
            "For i =  18\n"
          ]
        },
        {
          "output_type": "display_data",
          "data": {
            "image/png": "[encoded data removed]",
            "text/plain": [
              "<Figure size 432x288 with 1 Axes>"
            ]
          },
          "metadata": {
            "needs_background": "light"
          }
        },
        {
          "output_type": "stream",
          "name": "stdout",
          "text": [
            "For i =  19\n"
          ]
        },
        {
          "output_type": "display_data",
          "data": {
            "image/png": "[encoded data removed]",
            "text/plain": [
              "<Figure size 432x288 with 1 Axes>"
            ]
          },
          "metadata": {
            "needs_background": "light"
          }
        }
      ]
    },
    {
      "cell_type": "markdown",
      "metadata": {
        "id": "e2awdpjYEkvE"
      },
      "source": [
        "(b) Choose 50 images (not chosen previously) from the MNIST data set ran-\n",
        "domly and assign the clusters to these test images. What is the accuracy\n",
        "of cluster assignment?"
      ]
    },
    {
      "cell_type": "code",
      "metadata": {
        "id": "uJS7icGG-nOK"
      },
      "source": [
        "for i in range(50):\n",
        "  min_Val = 1e9\n",
        "  idx = -1\n",
        "  for j in range(k):\n",
        "    dist = euclidnorm(x_test[i], Z[j])\n",
        "    if dist < min_Val :\n",
        "      idx = j\n",
        "      min_Val = dist\n",
        "  cluster[i] = idx"
      ],
      "execution_count": null,
      "outputs": []
    },
    {
      "cell_type": "code",
      "metadata": {
        "colab": {
          "base_uri": "https://localhost:8080/"
        },
        "id": "xeEr2QxFFjtL",
        "outputId": "64a9de38-83c2-41f3-9bbd-0ce2575fcc20"
      },
      "source": [
        "num_cor = 0\n",
        "for i in range(50):\n",
        "  print(\"It was put in the cluster : \",cluster[i],\" and the actual number was \",y_test[i], \" predicted : \", dicty[cluster[i]])\n",
        "  if y_test[i] == dicty[cluster[i]]:\n",
        "    num_cor += 1\n",
        "accur = (num_cor/50)*100\n",
        "print(\"The Accuracy is :\",accur)"
      ],
      "execution_count": null,
      "outputs": [
        {
          "output_type": "stream",
          "name": "stdout",
          "text": [
            "It was put in the cluster :  17  and the actual number was  7  predicted :  7\n",
            "It was put in the cluster :  12  and the actual number was  2  predicted :  2\n",
            "It was put in the cluster :  11  and the actual number was  1  predicted :  1\n",
            "It was put in the cluster :  10  and the actual number was  0  predicted :  0\n",
            "It was put in the cluster :  4  and the actual number was  4  predicted :  4\n",
            "It was put in the cluster :  1  and the actual number was  1  predicted :  1\n",
            "It was put in the cluster :  17  and the actual number was  4  predicted :  7\n",
            "It was put in the cluster :  4  and the actual number was  9  predicted :  4\n",
            "It was put in the cluster :  16  and the actual number was  5  predicted :  6\n",
            "It was put in the cluster :  7  and the actual number was  9  predicted :  7\n",
            "It was put in the cluster :  0  and the actual number was  0  predicted :  0\n",
            "It was put in the cluster :  12  and the actual number was  6  predicted :  2\n",
            "It was put in the cluster :  19  and the actual number was  9  predicted :  9\n",
            "It was put in the cluster :  0  and the actual number was  0  predicted :  0\n",
            "It was put in the cluster :  11  and the actual number was  1  predicted :  1\n",
            "It was put in the cluster :  13  and the actual number was  5  predicted :  3\n",
            "It was put in the cluster :  4  and the actual number was  9  predicted :  4\n",
            "It was put in the cluster :  17  and the actual number was  7  predicted :  7\n",
            "It was put in the cluster :  13  and the actual number was  3  predicted :  3\n",
            "It was put in the cluster :  4  and the actual number was  4  predicted :  4\n",
            "It was put in the cluster :  7  and the actual number was  9  predicted :  7\n",
            "It was put in the cluster :  16  and the actual number was  6  predicted :  6\n",
            "It was put in the cluster :  16  and the actual number was  6  predicted :  6\n",
            "It was put in the cluster :  18  and the actual number was  5  predicted :  8\n",
            "It was put in the cluster :  4  and the actual number was  4  predicted :  4\n",
            "It was put in the cluster :  10  and the actual number was  0  predicted :  0\n",
            "It was put in the cluster :  4  and the actual number was  7  predicted :  4\n",
            "It was put in the cluster :  4  and the actual number was  4  predicted :  4\n",
            "It was put in the cluster :  10  and the actual number was  0  predicted :  0\n",
            "It was put in the cluster :  11  and the actual number was  1  predicted :  1\n",
            "It was put in the cluster :  13  and the actual number was  3  predicted :  3\n",
            "It was put in the cluster :  11  and the actual number was  1  predicted :  1\n",
            "It was put in the cluster :  13  and the actual number was  3  predicted :  3\n",
            "It was put in the cluster :  16  and the actual number was  4  predicted :  6\n",
            "It was put in the cluster :  7  and the actual number was  7  predicted :  7\n",
            "It was put in the cluster :  2  and the actual number was  2  predicted :  2\n",
            "It was put in the cluster :  17  and the actual number was  7  predicted :  7\n",
            "It was put in the cluster :  11  and the actual number was  1  predicted :  1\n",
            "It was put in the cluster :  13  and the actual number was  2  predicted :  3\n",
            "It was put in the cluster :  11  and the actual number was  1  predicted :  1\n",
            "It was put in the cluster :  11  and the actual number was  1  predicted :  1\n",
            "It was put in the cluster :  17  and the actual number was  7  predicted :  7\n",
            "It was put in the cluster :  4  and the actual number was  4  predicted :  4\n",
            "It was put in the cluster :  11  and the actual number was  2  predicted :  1\n",
            "It was put in the cluster :  11  and the actual number was  3  predicted :  1\n",
            "It was put in the cluster :  3  and the actual number was  5  predicted :  3\n",
            "It was put in the cluster :  11  and the actual number was  1  predicted :  1\n",
            "It was put in the cluster :  15  and the actual number was  2  predicted :  5\n",
            "It was put in the cluster :  4  and the actual number was  4  predicted :  4\n",
            "It was put in the cluster :  14  and the actual number was  4  predicted :  4\n",
            "The Accuracy is : 68.0\n"
          ]
        }
      ]
    },
    {
      "cell_type": "markdown",
      "metadata": {
        "id": "cTKF4T-4SLAI"
      },
      "source": [
        "(c) For k = 5 to k = 20, tabulate the values of J clust and discuss what may\n",
        "be the optimal size of number of clusters."
      ]
    },
    {
      "cell_type": "code",
      "metadata": {
        "id": "vxA8B6lGQeOL"
      },
      "source": [
        "def initialize_Z(k):\n",
        "  Z = []\n",
        "  dicty ={}\n",
        "  for i in range(10):\n",
        "    if i >= k:\n",
        "      break\n",
        "    print(\"Cluster \",i,\" has the value \",y_new[100*i])\n",
        "    dicty[i] = y_new[100*i]\n",
        "    Z.append(x_new[100*i])\n",
        "  if k <= 10:\n",
        "    return dicty\n",
        "  for i in range(10,k):\n",
        "    print(\"Cluster \",i,\" has the value \",y_new[100*(i-10)+ 2])\n",
        "    dicty[i] = y_new[100*(i-10)+ 2]\n",
        "    Z.append(x_new[100*(i-10)+ 2])\n",
        "  return dicty"
      ],
      "execution_count": null,
      "outputs": []
    },
    {
      "cell_type": "code",
      "metadata": {
        "colab": {
          "base_uri": "https://localhost:8080/"
        },
        "id": "b-KqfqYWF3B-",
        "outputId": "f0802cd5-999d-466d-8f81-ad37ce935ccd"
      },
      "source": [
        "J_clust = []\n",
        "K_clust = []\n",
        "for k in range(5,21):\n",
        "  dicty = initialize_Z(k)\n",
        "  cluster = np.random.randint(0,k, N)\n",
        "  prev_Cluster = cal_Jclust(x_new,Z,cluster)\n",
        "  it_no = 0\n",
        "  while(True):\n",
        "    #print(\"Iteration no: \",it_no)\n",
        "    it_no += 1\n",
        "    iteration1()\n",
        "    this_Cluster = cal_Jclust(x_new,Z,cluster)\n",
        "    if abs(this_Cluster - prev_Cluster) < 0.01:\n",
        "      break\n",
        "    prev_Cluster = this_Cluster\n",
        "  K_clust.append(k)\n",
        "  print(\"For k = \", k)\n",
        "  J_clust.append(prev_Cluster)\n",
        "  print(\"Total iterations : \", it_no, \" and the final value of J clust = \", prev_Cluster)"
      ],
      "execution_count": null,
      "outputs": [
        {
          "output_type": "stream",
          "name": "stdout",
          "text": [
            "Cluster  0  has the value  0\n",
            "Cluster  1  has the value  1\n",
            "Cluster  2  has the value  2\n",
            "Cluster  3  has the value  3\n",
            "Cluster  4  has the value  4\n",
            "For k =  5\n",
            "Total iterations :  13  and the final value of J clust =  1638.5446886447912\n",
            "Cluster  0  has the value  0\n",
            "Cluster  1  has the value  1\n",
            "Cluster  2  has the value  2\n",
            "Cluster  3  has the value  3\n",
            "Cluster  4  has the value  4\n",
            "Cluster  5  has the value  5\n",
            "For k =  6\n",
            "Total iterations :  20  and the final value of J clust =  1615.5165791137722\n",
            "Cluster  0  has the value  0\n",
            "Cluster  1  has the value  1\n",
            "Cluster  2  has the value  2\n",
            "Cluster  3  has the value  3\n",
            "Cluster  4  has the value  4\n",
            "Cluster  5  has the value  5\n",
            "Cluster  6  has the value  6\n",
            "For k =  7\n",
            "Total iterations :  5  and the final value of J clust =  1594.002988699041\n",
            "Cluster  0  has the value  0\n",
            "Cluster  1  has the value  1\n",
            "Cluster  2  has the value  2\n",
            "Cluster  3  has the value  3\n",
            "Cluster  4  has the value  4\n",
            "Cluster  5  has the value  5\n",
            "Cluster  6  has the value  6\n",
            "Cluster  7  has the value  7\n",
            "For k =  8\n",
            "Total iterations :  14  and the final value of J clust =  1571.570155555893\n",
            "Cluster  0  has the value  0\n",
            "Cluster  1  has the value  1\n",
            "Cluster  2  has the value  2\n",
            "Cluster  3  has the value  3\n",
            "Cluster  4  has the value  4\n",
            "Cluster  5  has the value  5\n",
            "Cluster  6  has the value  6\n",
            "Cluster  7  has the value  7\n",
            "Cluster  8  has the value  8\n",
            "For k =  9\n",
            "Total iterations :  5  and the final value of J clust =  1552.5180140433374\n",
            "Cluster  0  has the value  0\n",
            "Cluster  1  has the value  1\n",
            "Cluster  2  has the value  2\n",
            "Cluster  3  has the value  3\n",
            "Cluster  4  has the value  4\n",
            "Cluster  5  has the value  5\n",
            "Cluster  6  has the value  6\n",
            "Cluster  7  has the value  7\n",
            "Cluster  8  has the value  8\n",
            "Cluster  9  has the value  9\n",
            "For k =  10\n",
            "Total iterations :  7  and the final value of J clust =  1546.6934462281624\n",
            "Cluster  0  has the value  0\n",
            "Cluster  1  has the value  1\n",
            "Cluster  2  has the value  2\n",
            "Cluster  3  has the value  3\n",
            "Cluster  4  has the value  4\n",
            "Cluster  5  has the value  5\n",
            "Cluster  6  has the value  6\n",
            "Cluster  7  has the value  7\n",
            "Cluster  8  has the value  8\n",
            "Cluster  9  has the value  9\n",
            "Cluster  10  has the value  0\n",
            "For k =  11\n",
            "Total iterations :  4  and the final value of J clust =  1530.400958866219\n",
            "Cluster  0  has the value  0\n",
            "Cluster  1  has the value  1\n",
            "Cluster  2  has the value  2\n",
            "Cluster  3  has the value  3\n",
            "Cluster  4  has the value  4\n",
            "Cluster  5  has the value  5\n",
            "Cluster  6  has the value  6\n",
            "Cluster  7  has the value  7\n",
            "Cluster  8  has the value  8\n",
            "Cluster  9  has the value  9\n",
            "Cluster  10  has the value  0\n",
            "Cluster  11  has the value  1\n",
            "For k =  12\n",
            "Total iterations :  7  and the final value of J clust =  1508.3605016586112\n",
            "Cluster  0  has the value  0\n",
            "Cluster  1  has the value  1\n",
            "Cluster  2  has the value  2\n",
            "Cluster  3  has the value  3\n",
            "Cluster  4  has the value  4\n",
            "Cluster  5  has the value  5\n",
            "Cluster  6  has the value  6\n",
            "Cluster  7  has the value  7\n",
            "Cluster  8  has the value  8\n",
            "Cluster  9  has the value  9\n",
            "Cluster  10  has the value  0\n",
            "Cluster  11  has the value  1\n",
            "Cluster  12  has the value  2\n",
            "For k =  13\n",
            "Total iterations :  5  and the final value of J clust =  1499.0628141184725\n",
            "Cluster  0  has the value  0\n",
            "Cluster  1  has the value  1\n",
            "Cluster  2  has the value  2\n",
            "Cluster  3  has the value  3\n",
            "Cluster  4  has the value  4\n",
            "Cluster  5  has the value  5\n",
            "Cluster  6  has the value  6\n",
            "Cluster  7  has the value  7\n",
            "Cluster  8  has the value  8\n",
            "Cluster  9  has the value  9\n",
            "Cluster  10  has the value  0\n",
            "Cluster  11  has the value  1\n",
            "Cluster  12  has the value  2\n",
            "Cluster  13  has the value  3\n",
            "For k =  14\n",
            "Total iterations :  11  and the final value of J clust =  1491.4298131405162\n",
            "Cluster  0  has the value  0\n",
            "Cluster  1  has the value  1\n",
            "Cluster  2  has the value  2\n",
            "Cluster  3  has the value  3\n",
            "Cluster  4  has the value  4\n",
            "Cluster  5  has the value  5\n",
            "Cluster  6  has the value  6\n",
            "Cluster  7  has the value  7\n",
            "Cluster  8  has the value  8\n",
            "Cluster  9  has the value  9\n",
            "Cluster  10  has the value  0\n",
            "Cluster  11  has the value  1\n",
            "Cluster  12  has the value  2\n",
            "Cluster  13  has the value  3\n",
            "Cluster  14  has the value  4\n",
            "For k =  15\n",
            "Total iterations :  12  and the final value of J clust =  1478.3851776129106\n",
            "Cluster  0  has the value  0\n",
            "Cluster  1  has the value  1\n",
            "Cluster  2  has the value  2\n",
            "Cluster  3  has the value  3\n",
            "Cluster  4  has the value  4\n",
            "Cluster  5  has the value  5\n",
            "Cluster  6  has the value  6\n",
            "Cluster  7  has the value  7\n",
            "Cluster  8  has the value  8\n",
            "Cluster  9  has the value  9\n",
            "Cluster  10  has the value  0\n",
            "Cluster  11  has the value  1\n",
            "Cluster  12  has the value  2\n",
            "Cluster  13  has the value  3\n",
            "Cluster  14  has the value  4\n",
            "Cluster  15  has the value  5\n",
            "For k =  16\n",
            "Total iterations :  6  and the final value of J clust =  1458.3599083568363\n",
            "Cluster  0  has the value  0\n",
            "Cluster  1  has the value  1\n",
            "Cluster  2  has the value  2\n",
            "Cluster  3  has the value  3\n",
            "Cluster  4  has the value  4\n",
            "Cluster  5  has the value  5\n",
            "Cluster  6  has the value  6\n",
            "Cluster  7  has the value  7\n",
            "Cluster  8  has the value  8\n",
            "Cluster  9  has the value  9\n",
            "Cluster  10  has the value  0\n",
            "Cluster  11  has the value  1\n",
            "Cluster  12  has the value  2\n",
            "Cluster  13  has the value  3\n",
            "Cluster  14  has the value  4\n",
            "Cluster  15  has the value  5\n",
            "Cluster  16  has the value  6\n",
            "For k =  17\n",
            "Total iterations :  6  and the final value of J clust =  1450.9408572551508\n",
            "Cluster  0  has the value  0\n",
            "Cluster  1  has the value  1\n",
            "Cluster  2  has the value  2\n",
            "Cluster  3  has the value  3\n",
            "Cluster  4  has the value  4\n",
            "Cluster  5  has the value  5\n",
            "Cluster  6  has the value  6\n",
            "Cluster  7  has the value  7\n",
            "Cluster  8  has the value  8\n",
            "Cluster  9  has the value  9\n",
            "Cluster  10  has the value  0\n",
            "Cluster  11  has the value  1\n",
            "Cluster  12  has the value  2\n",
            "Cluster  13  has the value  3\n",
            "Cluster  14  has the value  4\n",
            "Cluster  15  has the value  5\n",
            "Cluster  16  has the value  6\n",
            "Cluster  17  has the value  7\n",
            "For k =  18\n",
            "Total iterations :  9  and the final value of J clust =  1440.5727786455286\n",
            "Cluster  0  has the value  0\n",
            "Cluster  1  has the value  1\n",
            "Cluster  2  has the value  2\n",
            "Cluster  3  has the value  3\n",
            "Cluster  4  has the value  4\n",
            "Cluster  5  has the value  5\n",
            "Cluster  6  has the value  6\n",
            "Cluster  7  has the value  7\n",
            "Cluster  8  has the value  8\n",
            "Cluster  9  has the value  9\n",
            "Cluster  10  has the value  0\n",
            "Cluster  11  has the value  1\n",
            "Cluster  12  has the value  2\n",
            "Cluster  13  has the value  3\n",
            "Cluster  14  has the value  4\n",
            "Cluster  15  has the value  5\n",
            "Cluster  16  has the value  6\n",
            "Cluster  17  has the value  7\n",
            "Cluster  18  has the value  8\n",
            "For k =  19\n",
            "Total iterations :  7  and the final value of J clust =  1435.5276026548536\n",
            "Cluster  0  has the value  0\n",
            "Cluster  1  has the value  1\n",
            "Cluster  2  has the value  2\n",
            "Cluster  3  has the value  3\n",
            "Cluster  4  has the value  4\n",
            "Cluster  5  has the value  5\n",
            "Cluster  6  has the value  6\n",
            "Cluster  7  has the value  7\n",
            "Cluster  8  has the value  8\n",
            "Cluster  9  has the value  9\n",
            "Cluster  10  has the value  0\n",
            "Cluster  11  has the value  1\n",
            "Cluster  12  has the value  2\n",
            "Cluster  13  has the value  3\n",
            "Cluster  14  has the value  4\n",
            "Cluster  15  has the value  5\n",
            "Cluster  16  has the value  6\n",
            "Cluster  17  has the value  7\n",
            "Cluster  18  has the value  8\n",
            "Cluster  19  has the value  9\n",
            "For k =  20\n",
            "Total iterations :  5  and the final value of J clust =  1426.0053620127105\n"
          ]
        }
      ]
    },
    {
      "cell_type": "code",
      "metadata": {
        "colab": {
          "base_uri": "https://localhost:8080/",
          "height": 295
        },
        "id": "SA4sk4nP6qqr",
        "outputId": "a998e77d-1e5f-4bb4-cfc4-fec2e705a4fc"
      },
      "source": [
        "plt.plot(K_clust,J_clust)\n",
        "plt.title(\"J_Clust vs Number of Clusters\")\n",
        "plt.xlabel('Number of Clusters')\n",
        "plt.ylabel('J_Clust')\n",
        "plt.show()"
      ],
      "execution_count": null,
      "outputs": [
        {
          "output_type": "display_data",
          "data": {
            "image/png": "[encoded data removed]",
            "text/plain": [
              "<Figure size 432x288 with 1 Axes>"
            ]
          },
          "metadata": {
            "needs_background": "light"
          }
        }
      ]
    },
    {
      "cell_type": "markdown",
      "metadata": {
        "id": "id7YR8VXSG6N"
      },
      "source": [
        "Here we see that the minimum value is assumed at k = 20. Which is evident becuase it lets the different classes to be distributed properly"
      ]
    },
    {
      "cell_type": "code",
      "metadata": {
        "colab": {
          "base_uri": "https://localhost:8080/"
        },
        "id": "JNKeWSsxHGJ0",
        "outputId": "8cbdbc36-2f3e-40da-abe0-18dd79b8a217"
      },
      "source": [
        "tot = 0\n",
        "for i in range(N):\n",
        "  if dicty[cluster[i]] == y_new[i]:\n",
        "    tot += 1\n",
        "acc_per = (100*tot)/N\n",
        "print(\"Accuracy shown is \", acc_per,\" %\")"
      ],
      "execution_count": null,
      "outputs": [
        {
          "output_type": "stream",
          "name": "stdout",
          "text": [
            "Accuracy shown is  62.6  %\n"
          ]
        }
      ]
    },
    {
      "cell_type": "markdown",
      "metadata": {
        "id": "J1L8U3NcTeFy"
      },
      "source": [
        "Does the choice of initial condition have any effect on the performance of\n",
        "k-means clustering algorithm?"
      ]
    },
    {
      "cell_type": "markdown",
      "metadata": {
        "id": "LYiSYHAPTfIe"
      },
      "source": [
        "Ans : Yes, it does affect the performance of the k-means clustering algorithm"
      ]
    }
  ]
}