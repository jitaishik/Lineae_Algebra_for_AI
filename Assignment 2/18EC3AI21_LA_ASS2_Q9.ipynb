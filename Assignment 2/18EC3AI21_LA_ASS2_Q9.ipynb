{
 "cells": [
  {
   "cell_type": "markdown",
   "metadata": {
    "id": "CZQnd02sttjQ"
   },
   "source": [
    "Aishik Mandal(18EC3AI21)\n",
    "## Question 9"
   ]
  },
  {
   "cell_type": "markdown",
   "metadata": {
    "id": "s5yIYi0I5Z2m"
   },
   "source": [
    "Generate 500 random vectors $x^{(i)} \\in \\mathbb{R}^2$ for i = 1, 2, . . . , 500\n",
    "from a standard normal distribution."
   ]
  },
  {
   "cell_type": "code",
   "execution_count": 1,
   "metadata": {
    "id": "UXyMqPGW46Yh"
   },
   "outputs": [],
   "source": [
    "import numpy as np\n",
    "import matplotlib.pyplot as plt\n",
    "from matplotlib.pyplot import figure"
   ]
  },
  {
   "cell_type": "code",
   "execution_count": 2,
   "metadata": {
    "id": "MIhyPI1BCzOk"
   },
   "outputs": [],
   "source": [
    "s = np.random.normal(size = 1000)\n",
    "X = np.reshape(s, (500, 2))  "
   ]
  },
  {
   "cell_type": "code",
   "execution_count": 26,
   "metadata": {
    "colab": {
     "base_uri": "https://localhost:8080/",
     "height": 413
    },
    "id": "oTNFX_a9reqS",
    "outputId": "a87b2870-b12f-40d6-cb3e-78bebea935db"
   },
   "outputs": [
    {
     "data": {
      "image/png": "[encoded data removed]",
      "text/plain": [
       "<Figure size 640x480 with 1 Axes>"
      ]
     },
     "metadata": {
      "needs_background": "light"
     },
     "output_type": "display_data"
    }
   ],
   "source": [
    "figure(figsize=(8, 6), dpi=80)\n",
    "plt.hist(s, 50, density=1, facecolor='b', alpha=0.75)\n",
    "plt.show()"
   ]
  },
  {
   "cell_type": "code",
   "execution_count": 4,
   "metadata": {
    "colab": {
     "base_uri": "https://localhost:8080/",
     "height": 0
    },
    "id": "-AEFWjk-KnDO",
    "outputId": "3bcad85e-2cf6-465a-db13-709a64765cad"
   },
   "outputs": [
    {
     "data": {
      "text/plain": [
       "array([[-0.88218486,  1.96851935],\n",
       "       [ 0.19972265,  0.37958278],\n",
       "       [ 0.5640895 ,  0.19677635],\n",
       "       [ 0.37143423, -1.10802765],\n",
       "       [-0.97188485, -0.09119528],\n",
       "       [ 2.08391211,  2.26222222],\n",
       "       [-0.33784017, -0.71529528],\n",
       "       [-0.38887791,  1.93764978],\n",
       "       [-1.41971589,  0.48255118],\n",
       "       [ 0.84408838, -0.17628305]])"
      ]
     },
     "execution_count": 4,
     "metadata": {},
     "output_type": "execute_result"
    }
   ],
   "source": [
    "X[0:10]"
   ]
  },
  {
   "cell_type": "markdown",
   "metadata": {
    "id": "WGgLt4piIwxp"
   },
   "source": [
    "For i = 1, 2, . . . , 500,\n",
    "$$\n",
    "y = \\begin{cases} +1  &  x_1^{(i)} x_2^{(i)} \\geq 0 \\\\ -1 & otherwise \\end{cases}\n",
    "$$"
   ]
  },
  {
   "cell_type": "code",
   "execution_count": 5,
   "metadata": {
    "id": "DYmuN_zCDWqe"
   },
   "outputs": [],
   "source": [
    "y = []\n",
    "for i in range(500) :\n",
    "    val = -1\n",
    "    if X[i][0]*X[i][1] >= 0 :\n",
    "        val = 1\n",
    "    y.append(val)"
   ]
  },
  {
   "cell_type": "code",
   "execution_count": 6,
   "metadata": {
    "colab": {
     "base_uri": "https://localhost:8080/",
     "height": 0
    },
    "id": "cxr7Rb7pELM6",
    "outputId": "faaed434-7edc-40b8-ebf2-7fd2e22fdce4"
   },
   "outputs": [
    {
     "data": {
      "text/plain": [
       "[-1, 1, 1, -1, 1, 1, 1, -1, -1, -1]"
      ]
     },
     "execution_count": 6,
     "metadata": {},
     "output_type": "execute_result"
    }
   ],
   "source": [
    "y[:10]"
   ]
  },
  {
   "cell_type": "markdown",
   "metadata": {
    "id": "M_RqTq83QZH1"
   },
   "source": [
    "Fit a polynomial least squares classifier of degree 2 to the data set using the\n",
    "polynomial <br>\n",
    "$$ \\tilde{f} (x) = θ _1 + θ _2 x _1 + θ _3 x _2 + θ _4 x _1 x _2 + θ _5 x ^2_1 + θ _6 x ^2_2 $$"
   ]
  },
  {
   "cell_type": "code",
   "execution_count": 7,
   "metadata": {
    "colab": {
     "base_uri": "https://localhost:8080/",
     "height": 0
    },
    "id": "RKxjeNDRKbwB",
    "outputId": "030f613b-fe15-47c2-b836-693c578a5ac7"
   },
   "outputs": [
    {
     "name": "stdout",
     "output_type": "stream",
     "text": [
      "(6,)\n"
     ]
    }
   ],
   "source": [
    "theta = np.random.rand(6) # Using least squares classification to get the best possible value of theta\n",
    "print(np.shape(theta))"
   ]
  },
  {
   "cell_type": "code",
   "execution_count": 8,
   "metadata": {
    "colab": {
     "base_uri": "https://localhost:8080/",
     "height": 0
    },
    "id": "Jr4o_44JV99j",
    "outputId": "373a9d1c-53eb-43ba-915c-5613a6433893"
   },
   "outputs": [
    {
     "name": "stdout",
     "output_type": "stream",
     "text": [
      "(500, 6)\n"
     ]
    }
   ],
   "source": [
    "x_val = np.array(  [np.ones(500), X[:,0], X[:,1] , X[:,0]*X[:,1], X[:,0]**2 ,X[:,1]**2 ])\n",
    "x_val = np.transpose(x_val)\n",
    "print(np.shape(x_val))"
   ]
  },
  {
   "cell_type": "code",
   "execution_count": 9,
   "metadata": {
    "id": "PI0H39aNfcLE"
   },
   "outputs": [],
   "source": [
    "pseudo_inv = np.dot((np.linalg.inv(np.dot(np.transpose(x_val), x_val))), np.transpose(x_val))\n",
    "theta = np.dot(pseudo_inv, y)"
   ]
  },
  {
   "cell_type": "code",
   "execution_count": 10,
   "metadata": {
    "colab": {
     "base_uri": "https://localhost:8080/",
     "height": 0
    },
    "id": "V33lvHn6tQKb",
    "outputId": "e8297aba-e879-46ce-a25f-9c00fb70ed82"
   },
   "outputs": [
    {
     "name": "stdout",
     "output_type": "stream",
     "text": [
      "[ 0.10758651 -0.02134877 -0.0453092   0.65165672 -0.02670468 -0.02086077]\n"
     ]
    }
   ],
   "source": [
    "print(theta)"
   ]
  },
  {
   "cell_type": "code",
   "execution_count": 11,
   "metadata": {
    "id": "EGucFmu5X-ga"
   },
   "outputs": [],
   "source": [
    "y_hat = np.dot(x_val, theta)\n",
    "y_tilde = [1 if i > 0 else -1 for i in y_hat]"
   ]
  },
  {
   "cell_type": "code",
   "execution_count": 12,
   "metadata": {
    "id": "PcNiAbtfgApM"
   },
   "outputs": [],
   "source": [
    "true_pos = 0\n",
    "true_neg = 0\n",
    "false_pos = 0\n",
    "false_neg = 0\n",
    "for i in range(500):\n",
    "    if y[i] == y_tilde[i]:\n",
    "        if y[i] == 1 :\n",
    "            true_pos += 1\n",
    "        else:\n",
    "            true_neg += 1\n",
    "    else:\n",
    "        if y[i] == -1:\n",
    "            false_pos += 1\n",
    "        else:\n",
    "            false_neg += 1"
   ]
  },
  {
   "cell_type": "markdown",
   "metadata": {
    "id": "cQByvLWftx-A"
   },
   "source": [
    "(a) Give the error rate of the classifier using the confusion matrix."
   ]
  },
  {
   "cell_type": "code",
   "execution_count": 13,
   "metadata": {
    "colab": {
     "base_uri": "https://localhost:8080/",
     "height": 0
    },
    "id": "hw-k7nm1hDVS",
    "outputId": "e0eb7448-d3d6-4235-b745-557a3a4df550"
   },
   "outputs": [
    {
     "name": "stdout",
     "output_type": "stream",
     "text": [
      "True Positives =  260  , True negatives =  186 , False Positives =  53  , False negatives =  1\n"
     ]
    }
   ],
   "source": [
    "print(\"True Positives = \", true_pos, \" , True negatives = \", true_neg, \", False Positives = \", false_pos, \" , False negatives = \", false_neg)"
   ]
  },
  {
   "cell_type": "code",
   "execution_count": 14,
   "metadata": {
    "colab": {
     "base_uri": "https://localhost:8080/",
     "height": 0
    },
    "id": "W4n_psf1jYZB",
    "outputId": "f3213343-d69c-44b5-e5a7-9e78e37b2eb1"
   },
   "outputs": [
    {
     "name": "stdout",
     "output_type": "stream",
     "text": [
      "Acccuracy =  89.2  and Error Rate =  0.108\n"
     ]
    }
   ],
   "source": [
    "acccuracy = (true_pos + true_neg )/5\n",
    "error_Rate = (false_pos + false_neg )/500\n",
    "print(\"Acccuracy = \", acccuracy, \" and Error Rate = \", error_Rate)"
   ]
  },
  {
   "cell_type": "markdown",
   "metadata": {
    "id": "Dp_ipFmtk5bl"
   },
   "source": [
    "(b) Show the regions in the $ \\mathbb{R}^2 $ plane where the classifier model $ \\hat{f}  (x) = 1 $ and\n",
    "$ \\hat{f} (x) = −1 $."
   ]
  },
  {
   "cell_type": "code",
   "execution_count": 15,
   "metadata": {
    "id": "VyKir4QskoKz"
   },
   "outputs": [],
   "source": [
    "x_one = []\n",
    "y_one = []\n",
    "for i in range(500):\n",
    "    if y_tilde[i] == 1 :\n",
    "        x_one.append(X[i][0])\n",
    "        y_one.append(X[i][1])\n",
    "x_neg = []\n",
    "y_neg = []\n",
    "for i in range(500):\n",
    "    if y_tilde[i] == -1 :\n",
    "        x_neg.append(X[i][0])\n",
    "        y_neg.append(X[i][1])"
   ]
  },
  {
   "cell_type": "code",
   "execution_count": 16,
   "metadata": {
    "colab": {
     "base_uri": "https://localhost:8080/",
     "height": 549
    },
    "id": "IYxfSHTilRHi",
    "outputId": "30e8d3dd-6e78-42f3-eb45-6566ab06638e"
   },
   "outputs": [
    {
     "data": {
      "image/png": "[encoded data removed]",
      "text/plain": [
       "<Figure size 800x640 with 1 Axes>"
      ]
     },
     "metadata": {
      "needs_background": "light"
     },
     "output_type": "display_data"
    }
   ],
   "source": [
    "figure(figsize=(10, 8), dpi=80)\n",
    "plt.scatter(x_one, y_one , marker = '+', label = 'Positives')\n",
    "plt.scatter(x_neg, y_neg , marker = '.', label = 'Negatives')\n",
    "plt.xlabel(\"x_1\")\n",
    "plt.ylabel(\"x_2\")\n",
    "plt.legend(loc='upper left')\n",
    "plt.show()"
   ]
  },
  {
   "cell_type": "markdown",
   "metadata": {
    "id": "97QHKNdZsCvb"
   },
   "source": [
    "The blue regions are where $ \\hat{f}  (x) = 1 $ and the orange regions are where\n",
    "$ \\hat{f} (x) = −1 $.\n"
   ]
  },
  {
   "cell_type": "markdown",
   "metadata": {
    "id": "Btkdl3oqsiCg"
   },
   "source": [
    "(c) Does the second degree polynomial $ g = x _1 x _2 $ classify the generated points\n",
    "with zero error? Compare the parameters estimated polynomial model\n",
    "from the data with those of g."
   ]
  },
  {
   "cell_type": "code",
   "execution_count": 17,
   "metadata": {
    "id": "AB0WW23SsgBv"
   },
   "outputs": [],
   "source": [
    "pseudo_inv = np.dot((np.linalg.inv(np.dot(np.transpose(X), X))), np.transpose(X))\n",
    "theta = np.dot(pseudo_inv, y)"
   ]
  },
  {
   "cell_type": "code",
   "execution_count": 18,
   "metadata": {
    "id": "STvW2b4vlyw1"
   },
   "outputs": [],
   "source": [
    "y_hat2 = np.dot(X, theta)\n",
    "y_tilde2 = [1 if i > 0 else -1 for i in y_hat2]"
   ]
  },
  {
   "cell_type": "code",
   "execution_count": 19,
   "metadata": {
    "id": "X8oHaQGKs5WS"
   },
   "outputs": [],
   "source": [
    "true_pos = 0\n",
    "true_neg = 0\n",
    "false_pos = 0\n",
    "false_neg = 0\n",
    "for i in range(500):\n",
    "    if y[i] == y_tilde2[i]:\n",
    "        if y[i] == 1:\n",
    "            true_pos += 1\n",
    "        else:\n",
    "            true_neg += 1\n",
    "    else:\n",
    "        if y[i] == -1:\n",
    "            false_pos += 1\n",
    "        else:\n",
    "            false_neg += 1"
   ]
  },
  {
   "cell_type": "code",
   "execution_count": 20,
   "metadata": {
    "colab": {
     "base_uri": "https://localhost:8080/",
     "height": 0
    },
    "id": "UyRTS6gJtA9l",
    "outputId": "807f6b59-7608-4756-947f-7a29a194bd2d"
   },
   "outputs": [
    {
     "name": "stdout",
     "output_type": "stream",
     "text": [
      "True Positives =  131  , True negatives =  129 , False Positives =  110  , False negatives =  130\n",
      "Acccuracy =  52.0  and Error Rate =  0.48\n"
     ]
    }
   ],
   "source": [
    "print(\"True Positives = \", true_pos, \" , True negatives = \", true_neg, \", False Positives = \", false_pos, \" , False negatives = \", false_neg)\n",
    "acccuracy = (true_pos + true_neg )/5\n",
    "error_Rate = (false_pos + false_neg )/500\n",
    "print(\"Acccuracy = \", acccuracy, \" and Error Rate = \", error_Rate)"
   ]
  },
  {
   "cell_type": "code",
   "execution_count": 21,
   "metadata": {
    "colab": {
     "base_uri": "https://localhost:8080/",
     "height": 0
    },
    "id": "07RarKzRtFg9",
    "outputId": "e9b075d9-c60e-4eb1-e088-84c018a9bc5f"
   },
   "outputs": [
    {
     "data": {
      "text/plain": [
       "array([ 0.02264702, -0.03313282])"
      ]
     },
     "execution_count": 21,
     "metadata": {},
     "output_type": "execute_result"
    }
   ],
   "source": [
    "theta"
   ]
  },
  {
   "cell_type": "code",
   "execution_count": 22,
   "metadata": {
    "id": "3iWC582LtJu5"
   },
   "outputs": [],
   "source": [
    "x_one = []\n",
    "y_one = []\n",
    "for i in range(500):\n",
    "    if y_tilde2[i] == 1:\n",
    "        x_one.append(X[i][0])\n",
    "        y_one.append(X[i][1])\n",
    "x_neg = []\n",
    "y_neg = []\n",
    "for i in range(500):\n",
    "    if y_tilde2[i] == -1:\n",
    "        x_neg.append(X[i][0])\n",
    "        y_neg.append(X[i][1])"
   ]
  },
  {
   "cell_type": "code",
   "execution_count": 23,
   "metadata": {
    "colab": {
     "base_uri": "https://localhost:8080/",
     "height": 549
    },
    "id": "naNQydRmtXBd",
    "outputId": "4e4187c9-6dc8-4c97-b41d-88f3db498e9d"
   },
   "outputs": [
    {
     "data": {
      "image/png": "[encoded data removed]",
      "text/plain": [
       "<Figure size 800x640 with 1 Axes>"
      ]
     },
     "metadata": {
      "needs_background": "light"
     },
     "output_type": "display_data"
    }
   ],
   "source": [
    "figure(figsize=(10, 8), dpi=80)\n",
    "plt.scatter(x_one, y_one , marker = '+', label = 'Positives')\n",
    "plt.scatter(x_neg, y_neg , marker = '.', label = 'Negatives')\n",
    "plt.xlabel(\"x_1\")\n",
    "plt.ylabel(\"x_2\")\n",
    "plt.legend(loc='upper left')\n",
    "plt.show()"
   ]
  },
  {
   "cell_type": "markdown",
   "metadata": {
    "id": "NVB6j78jtegW"
   },
   "source": [
    "As we can clearly see that the second degree polynomial, $ g = x _1 x _2 $, is not able to quantify the given results properly. "
   ]
  }
 ],
 "metadata": {
  "colab": {
   "collapsed_sections": [],
   "name": "Assignment 2  q9 LA in AI / ML _ 18MA20005.ipynb",
   "provenance": []
  },
  "kernelspec": {
   "display_name": "Python 3",
   "language": "python",
   "name": "python3"
  },
  "language_info": {
   "codemirror_mode": {
    "name": "ipython",
    "version": 3
   },
   "file_extension": ".py",
   "mimetype": "text/x-python",
   "name": "python",
   "nbconvert_exporter": "python",
   "pygments_lexer": "ipython3",
   "version": "3.7.4"
  }
 },
 "nbformat": 4,
 "nbformat_minor": 1
}
